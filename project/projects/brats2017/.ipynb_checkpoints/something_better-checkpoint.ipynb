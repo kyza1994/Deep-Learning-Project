{
 "cells": [
  {
   "cell_type": "code",
   "execution_count": 1,
   "metadata": {
    "collapsed": false
   },
   "outputs": [],
   "source": [
    "import matplotlib.pyplot as plt\n",
    "import matplotlib.cm as cm\n",
    "%matplotlib inline\n",
    "\n",
    "import time\n",
    "import pickle\n",
    "from imp import reload\n",
    "from os.path import join\n",
    "from itertools import product\n",
    "\n",
    "from sklearn.model_selection import KFold\n",
    "import numpy as np\n",
    "from tqdm import tqdm\n",
    "\n",
    "import torch\n",
    "import torch.nn as nn\n",
    "import torch.nn.functional as F\n",
    "from torch.autograd import Variable\n",
    "\n",
    "from data_loader import DataLoader\n",
    "import medim\n",
    "reload(medim);"
   ]
  },
  {
   "cell_type": "code",
   "execution_count": 2,
   "metadata": {
    "collapsed": true
   },
   "outputs": [],
   "source": [
    "raw_path = '/home/mount/neuro-t01-hdd/Brats2017/data/raw/'\n",
    "\n",
    "data_loader = DataLoader(raw_path)\n",
    "patients = data_loader.patients\n",
    "\n",
    "n_classes = 3"
   ]
  },
  {
   "cell_type": "code",
   "execution_count": 3,
   "metadata": {
    "collapsed": false
   },
   "outputs": [
    {
     "name": "stderr",
     "output_type": "stream",
     "text": [
      "100%|██████████| 285/285 [00:25<00:00, 10.98it/s]\n"
     ]
    }
   ],
   "source": [
    "processed_path = '/mount/export/Brats2017/data/processed'\n",
    "mscans = []\n",
    "msegms = []\n",
    "\n",
    "for patient in tqdm(patients):\n",
    "    filename = join(processed_path, patient)\n",
    "    \n",
    "    mscans.append(np.load(filename+'_mscan.npy'))\n",
    "    msegms.append(np.load(filename+'_segmentation.npy'))"
   ]
  },
  {
   "cell_type": "code",
   "execution_count": 4,
   "metadata": {
    "collapsed": false
   },
   "outputs": [],
   "source": [
    "n_splits = 5\n",
    "\n",
    "cv = KFold(n_splits, shuffle=True, random_state=42)\n",
    "train, test = next(cv.split(mscans))\n",
    "\n",
    "def extract(l, idx):\n",
    "    return [l[i] for i in idx]\n",
    "\n",
    "mscans_train, mscans_test = extract(mscans, train), extract(mscans, test)\n",
    "msegms_train, msegms_test = extract(msegms, train), extract(msegms, test)"
   ]
  },
  {
   "cell_type": "code",
   "execution_count": 5,
   "metadata": {
    "collapsed": true
   },
   "outputs": [],
   "source": [
    "n_splits = 40\n",
    "\n",
    "cv = KFold(n_splits, shuffle=True, random_state=21)\n",
    "train, val = next(cv.split(mscans_train))\n",
    "\n",
    "def extract(l, idx):\n",
    "    return [l[i] for i in idx]\n",
    "\n",
    "mscans_train, mscans_val = extract(mscans_train, train), extract(mscans_train, val)\n",
    "msegms_train, msegms_val = extract(msegms_train, train), extract(msegms_train, val)"
   ]
  },
  {
   "cell_type": "code",
   "execution_count": 67,
   "metadata": {
    "collapsed": false
   },
   "outputs": [],
   "source": [
    "def dice_score(y_pred, target):\n",
    "    \"\"\"Dice score for binary segmentation on 3d scan\"\"\"\n",
    "    dcs = 2 * np.sum(y_pred * target) / (np.sum(y_pred) + np.sum(target))\n",
    "    if np.isnan(dcs):\n",
    "        return 1\n",
    "    else:\n",
    "        return dcs"
   ]
  },
  {
   "cell_type": "code",
   "execution_count": 7,
   "metadata": {
    "collapsed": false
   },
   "outputs": [],
   "source": [
    "kernel_size = 3\n",
    "blocks = [32, 32, 64, 64]\n",
    "\n",
    "patch_size_x = np.array([20, 20, 20])\n",
    "patch_size_y = patch_size_x - 2*len(blocks)"
   ]
  },
  {
   "cell_type": "code",
   "execution_count": 9,
   "metadata": {
    "collapsed": false
   },
   "outputs": [
    {
     "name": "stdout",
     "output_type": "stream",
     "text": [
      "CPU times: user 748 ms, sys: 3.77 s, total: 4.52 s\n",
      "Wall time: 4.52 s\n"
     ]
    }
   ],
   "source": [
    "%%time\n",
    "\n",
    "padding = (patch_size_x - patch_size_y) // 2\n",
    "\n",
    "def min_padding(mscan, padding):\n",
    "    padding = np.array([0] + list(padding))\n",
    "    padding = np.repeat(padding[:, None], 2, axis=1)\n",
    "    \n",
    "    return np.pad(mscan, padding, mode='minimum')\n",
    "\n",
    "mscans_val_padded = [min_padding(m, padding) for m in mscans_val]"
   ]
  },
  {
   "cell_type": "code",
   "execution_count": 14,
   "metadata": {
    "collapsed": false
   },
   "outputs": [],
   "source": [
    "def to_var(x, volatile=False):\n",
    "    return Variable(torch.from_numpy(x), volatile=volatile).cuda()\n",
    "\n",
    "def to_numpy(x):\n",
    "    return np.array(x.cpu().data.numpy())\n",
    "\n",
    "\n",
    "def cb(in_chans, out_chans, kernel_size, relu=False):\n",
    "    c = nn.Conv3d(in_chans, out_chans, kernel_size, bias=False)\n",
    "    bn = nn.BatchNorm3d(out_chans)\n",
    "    \n",
    "    ops = [c, bn]\n",
    "    if relu:\n",
    "        ops.append(nn.ReLU(inplace=True))\n",
    "    \n",
    "    return nn.Sequential(*ops)\n",
    "\n",
    "class ResBlock(nn.Module):\n",
    "    def __init__(self, in_chans, int_chans, out_chans, kernel_size):\n",
    "        super().__init__()\n",
    "        self.kernel_size = kernel_size\n",
    "        self.in_chans = in_chans\n",
    "        self.int_chans = int_chans\n",
    "        self.out_chans = out_chans\n",
    "        \n",
    "        self.fe = nn.Sequential(\n",
    "            cb(in_chans, int_chans, 1, relu=True),\n",
    "            cb(int_chans, int_chans, kernel_size, relu=True),\n",
    "            cb(int_chans, out_chans, 1),\n",
    "        )\n",
    "        \n",
    "        if in_chans != out_chans:\n",
    "            self.transformer = cb(in_chans, out_chans, 1)\n",
    "    \n",
    "    def forward(self, input):\n",
    "        out = self.fe(input)\n",
    "        \n",
    "        s = self.kernel_size // 2\n",
    "        if self.in_chans != self.out_chans:\n",
    "            out += self.transformer(input[:, :, s:-s, s:-s, s:-s])\n",
    "        else:\n",
    "            out += input[:, :, s:-s, s:-s, s:-s]\n",
    "        \n",
    "        return F.relu(out, inplace=True)\n",
    "        \n",
    "\n",
    "class Model(torch.nn.Module):\n",
    "    def __init__(self, blocks, kernel_size):\n",
    "        super().__init__()\n",
    "            \n",
    "        fe = []\n",
    "        n_chans_prev = 4\n",
    "        for n_chans in blocks:\n",
    "            fe.append(ResBlock(n_chans_prev, n_chans//4, n_chans, kernel_size))\n",
    "            n_chans_prev = n_chans\n",
    "            \n",
    "        fe.extend([cb(n_chans_prev, n_classes, 1, relu=False),\n",
    "                   nn.Sigmoid()])\n",
    "        \n",
    "        self.model = nn.Sequential(*fe)\n",
    "    \n",
    "    def forward(self, input):\n",
    "        return self.model(input)\n",
    "    \n",
    "model = Model(blocks, kernel_size).cuda()"
   ]
  },
  {
   "cell_type": "code",
   "execution_count": 23,
   "metadata": {
    "collapsed": true
   },
   "outputs": [],
   "source": [
    "optimizer = torch.optim.SGD(model.parameters(), lr=0.003, nesterov=True, momentum=0.9)"
   ]
  },
  {
   "cell_type": "code",
   "execution_count": 24,
   "metadata": {
    "collapsed": false,
    "scrolled": true
   },
   "outputs": [
    {
     "name": "stderr",
     "output_type": "stream",
     "text": [
      "100%|██████████| 40/40 [00:25<00:00,  1.63it/s]"
     ]
    },
    {
     "name": "stdout",
     "output_type": "stream",
     "text": [
      "Epoch 0\n",
      "Train: 0.0231525\n"
     ]
    },
    {
     "name": "stderr",
     "output_type": "stream",
     "text": [
      "\n",
      "6it [00:20,  3.46s/it]"
     ]
    },
    {
     "name": "stdout",
     "output_type": "stream",
     "text": [
      "Val  : 0.0205037\n",
      "Val  : [ 0.81818835  0.72247055  0.51959531]\n",
      "Time : 25.031810522079468 20.885251998901367\n",
      "\n",
      "\n"
     ]
    },
    {
     "name": "stderr",
     "output_type": "stream",
     "text": [
      "\n",
      "100%|██████████| 40/40 [00:25<00:00,  1.58it/s]"
     ]
    },
    {
     "name": "stdout",
     "output_type": "stream",
     "text": [
      "Epoch 1\n",
      "Train: 0.0272815\n"
     ]
    },
    {
     "name": "stderr",
     "output_type": "stream",
     "text": [
      "\n",
      "6it [00:18,  3.14s/it]"
     ]
    },
    {
     "name": "stdout",
     "output_type": "stream",
     "text": [
      "Val  : 0.0204239\n",
      "Val  : [ 0.81869701  0.72725329  0.51821798]\n",
      "Time : 25.36168384552002 18.55526041984558\n",
      "\n",
      "\n"
     ]
    },
    {
     "name": "stderr",
     "output_type": "stream",
     "text": [
      "\n",
      "100%|██████████| 40/40 [00:25<00:00,  1.59it/s]"
     ]
    },
    {
     "name": "stdout",
     "output_type": "stream",
     "text": [
      "Epoch 2\n",
      "Train: 0.0262595\n"
     ]
    },
    {
     "name": "stderr",
     "output_type": "stream",
     "text": [
      "\n",
      "6it [00:20,  3.46s/it]"
     ]
    },
    {
     "name": "stdout",
     "output_type": "stream",
     "text": [
      "Val  : 0.020716\n",
      "Val  : [ 0.81969906  0.72781004  0.51861047]\n",
      "Time : 25.499006986618042 20.40760374069214\n",
      "\n",
      "\n"
     ]
    },
    {
     "name": "stderr",
     "output_type": "stream",
     "text": [
      "\n",
      "100%|██████████| 40/40 [00:25<00:00,  1.58it/s]"
     ]
    },
    {
     "name": "stdout",
     "output_type": "stream",
     "text": [
      "Epoch 3\n",
      "Train: 0.0252818\n"
     ]
    },
    {
     "name": "stderr",
     "output_type": "stream",
     "text": [
      "\n",
      "6it [00:18,  3.15s/it]"
     ]
    },
    {
     "name": "stdout",
     "output_type": "stream",
     "text": [
      "Val  : 0.0203395\n",
      "Val  : [ 0.81802126  0.7423115   0.52542822]\n",
      "Time : 25.25957441329956 18.6402268409729\n",
      "\n",
      "\n"
     ]
    },
    {
     "name": "stderr",
     "output_type": "stream",
     "text": [
      "\n",
      "100%|██████████| 40/40 [00:25<00:00,  1.59it/s]"
     ]
    },
    {
     "name": "stdout",
     "output_type": "stream",
     "text": [
      "Epoch 4\n",
      "Train: 0.0269924\n"
     ]
    },
    {
     "name": "stderr",
     "output_type": "stream",
     "text": [
      "\n",
      "6it [00:18,  3.05s/it]"
     ]
    },
    {
     "name": "stdout",
     "output_type": "stream",
     "text": [
      "Val  : 0.0205242\n",
      "Val  : [ 0.81697693  0.73183841  0.51607944]\n",
      "Time : 25.274294137954712 18.14608335494995\n",
      "\n",
      "\n"
     ]
    },
    {
     "name": "stderr",
     "output_type": "stream",
     "text": [
      "\n",
      "100%|██████████| 40/40 [00:25<00:00,  1.56it/s]"
     ]
    },
    {
     "name": "stdout",
     "output_type": "stream",
     "text": [
      "Epoch 5\n",
      "Train: 0.0265396\n"
     ]
    },
    {
     "name": "stderr",
     "output_type": "stream",
     "text": [
      "\n",
      "6it [00:17,  3.09s/it]"
     ]
    },
    {
     "name": "stdout",
     "output_type": "stream",
     "text": [
      "Val  : 0.0211038\n",
      "Val  : [ 0.81892173  0.70220254  0.51678549]\n",
      "Time : 25.385300874710083 17.760905742645264\n",
      "\n",
      "\n"
     ]
    },
    {
     "name": "stderr",
     "output_type": "stream",
     "text": [
      "\n",
      "100%|██████████| 40/40 [00:25<00:00,  1.63it/s]"
     ]
    },
    {
     "name": "stdout",
     "output_type": "stream",
     "text": [
      "Epoch 6\n",
      "Train: 0.0246608\n"
     ]
    },
    {
     "name": "stderr",
     "output_type": "stream",
     "text": [
      "\n",
      "6it [00:16,  2.93s/it]"
     ]
    },
    {
     "name": "stdout",
     "output_type": "stream",
     "text": [
      "Val  : 0.0205282\n",
      "Val  : [ 0.81714372  0.70882651  0.52007389]\n",
      "Time : 25.24111294746399 16.760735750198364\n",
      "\n",
      "\n"
     ]
    },
    {
     "name": "stderr",
     "output_type": "stream",
     "text": [
      "\n",
      "100%|██████████| 40/40 [00:25<00:00,  1.57it/s]"
     ]
    },
    {
     "name": "stdout",
     "output_type": "stream",
     "text": [
      "Epoch 7\n",
      "Train: 0.0259331\n"
     ]
    },
    {
     "name": "stderr",
     "output_type": "stream",
     "text": [
      "\n",
      "6it [00:19,  3.33s/it]"
     ]
    },
    {
     "name": "stdout",
     "output_type": "stream",
     "text": [
      "Val  : 0.0210407\n",
      "Val  : [ 0.81765331  0.69864573  0.51405835]\n",
      "Time : 25.30064058303833 19.195433616638184\n",
      "\n",
      "\n"
     ]
    },
    {
     "name": "stderr",
     "output_type": "stream",
     "text": [
      "\n",
      "100%|██████████| 40/40 [00:24<00:00,  1.64it/s]"
     ]
    },
    {
     "name": "stdout",
     "output_type": "stream",
     "text": [
      "Epoch 8\n",
      "Train: 0.0282263\n"
     ]
    },
    {
     "name": "stderr",
     "output_type": "stream",
     "text": [
      "\n",
      "6it [00:18,  3.17s/it]"
     ]
    },
    {
     "name": "stdout",
     "output_type": "stream",
     "text": [
      "Val  : 0.0205075\n",
      "Val  : [ 0.82126787  0.73929147  0.49558497]\n",
      "Time : 24.916366577148438 18.17668581008911\n",
      "\n",
      "\n"
     ]
    },
    {
     "name": "stderr",
     "output_type": "stream",
     "text": [
      "\n",
      "100%|██████████| 40/40 [00:25<00:00,  1.56it/s]"
     ]
    },
    {
     "name": "stdout",
     "output_type": "stream",
     "text": [
      "Epoch 9\n",
      "Train: 0.0279747\n"
     ]
    },
    {
     "name": "stderr",
     "output_type": "stream",
     "text": [
      "\n",
      "6it [00:18,  3.21s/it]"
     ]
    },
    {
     "name": "stdout",
     "output_type": "stream",
     "text": [
      "Val  : 0.0209692\n",
      "Val  : [ 0.82060552  0.72818531  0.52548476]\n",
      "Time : 25.63757634162903 18.0645170211792\n",
      "\n",
      "\n"
     ]
    },
    {
     "name": "stderr",
     "output_type": "stream",
     "text": [
      "\n",
      "100%|██████████| 40/40 [00:25<00:00,  1.56it/s]"
     ]
    },
    {
     "name": "stdout",
     "output_type": "stream",
     "text": [
      "Epoch 10\n",
      "Train: 0.0252072\n"
     ]
    },
    {
     "name": "stderr",
     "output_type": "stream",
     "text": [
      "\n",
      "6it [00:18,  3.18s/it]"
     ]
    },
    {
     "name": "stdout",
     "output_type": "stream",
     "text": [
      "Val  : 0.0209042\n",
      "Val  : [ 0.82063316  0.6957824   0.51315788]\n",
      "Time : 25.65479803085327 18.223713397979736\n",
      "\n",
      "\n"
     ]
    },
    {
     "name": "stderr",
     "output_type": "stream",
     "text": [
      "\n",
      "100%|██████████| 40/40 [00:25<00:00,  1.58it/s]"
     ]
    },
    {
     "name": "stdout",
     "output_type": "stream",
     "text": [
      "Epoch 11\n",
      "Train: 0.0251118\n"
     ]
    },
    {
     "name": "stderr",
     "output_type": "stream",
     "text": [
      "\n",
      "6it [00:17,  3.01s/it]"
     ]
    },
    {
     "name": "stdout",
     "output_type": "stream",
     "text": [
      "Val  : 0.0206732\n",
      "Val  : [ 0.81908551  0.73655797  0.5224617 ]\n",
      "Time : 25.511103868484497 17.15427803993225\n",
      "\n",
      "\n"
     ]
    },
    {
     "name": "stderr",
     "output_type": "stream",
     "text": [
      "\n",
      "100%|██████████| 40/40 [00:25<00:00,  1.55it/s]"
     ]
    },
    {
     "name": "stdout",
     "output_type": "stream",
     "text": [
      "Epoch 12\n",
      "Train: 0.0270674\n"
     ]
    },
    {
     "name": "stderr",
     "output_type": "stream",
     "text": [
      "\n",
      "6it [00:18,  3.16s/it]"
     ]
    },
    {
     "name": "stdout",
     "output_type": "stream",
     "text": [
      "Val  : 0.0209138\n",
      "Val  : [ 0.81652453  0.70314228  0.51290171]\n",
      "Time : 25.617384672164917 18.34110927581787\n",
      "\n",
      "\n"
     ]
    },
    {
     "name": "stderr",
     "output_type": "stream",
     "text": [
      "\n",
      "100%|██████████| 40/40 [00:25<00:00,  1.62it/s]"
     ]
    },
    {
     "name": "stdout",
     "output_type": "stream",
     "text": [
      "Epoch 13\n",
      "Train: 0.0268963\n"
     ]
    },
    {
     "name": "stderr",
     "output_type": "stream",
     "text": [
      "\n",
      "6it [00:18,  3.17s/it]"
     ]
    },
    {
     "name": "stdout",
     "output_type": "stream",
     "text": [
      "Val  : 0.0208682\n",
      "Val  : [ 0.82155942  0.70513922  0.51357319]\n",
      "Time : 25.180442810058594 18.365029096603394\n",
      "\n",
      "\n"
     ]
    },
    {
     "name": "stderr",
     "output_type": "stream",
     "text": [
      "\n",
      "100%|██████████| 40/40 [00:25<00:00,  1.59it/s]"
     ]
    },
    {
     "name": "stdout",
     "output_type": "stream",
     "text": [
      "Epoch 14\n",
      "Train: 0.0269507\n"
     ]
    },
    {
     "name": "stderr",
     "output_type": "stream",
     "text": [
      "\n",
      "6it [00:14,  2.56s/it]"
     ]
    },
    {
     "name": "stdout",
     "output_type": "stream",
     "text": [
      "Val  : 0.0205203\n",
      "Val  : [ 0.82148977  0.69121529  0.52163848]\n",
      "Time : 25.35974645614624 14.991352319717407\n",
      "\n",
      "\n"
     ]
    },
    {
     "name": "stderr",
     "output_type": "stream",
     "text": [
      "\n",
      "100%|██████████| 40/40 [00:24<00:00,  1.64it/s]"
     ]
    },
    {
     "name": "stdout",
     "output_type": "stream",
     "text": [
      "Epoch 15\n",
      "Train: 0.0264628\n"
     ]
    },
    {
     "name": "stderr",
     "output_type": "stream",
     "text": [
      "\n",
      "6it [00:16,  2.89s/it]"
     ]
    },
    {
     "name": "stdout",
     "output_type": "stream",
     "text": [
      "Val  : 0.0210126\n",
      "Val  : [ 0.81790427  0.71746763  0.52046729]\n",
      "Time : 24.62554121017456 16.591665267944336\n",
      "\n",
      "\n"
     ]
    },
    {
     "name": "stderr",
     "output_type": "stream",
     "text": [
      "\n",
      "100%|██████████| 40/40 [00:25<00:00,  1.63it/s]"
     ]
    },
    {
     "name": "stdout",
     "output_type": "stream",
     "text": [
      "Epoch 16\n",
      "Train: 0.0260733\n"
     ]
    },
    {
     "name": "stderr",
     "output_type": "stream",
     "text": [
      "\n",
      "0it [00:00, ?it/s]\n"
     ]
    },
    {
     "ename": "KeyboardInterrupt",
     "evalue": "",
     "output_type": "error",
     "traceback": [
      "\u001b[0;31m---------------------------------------------------------------------------\u001b[0m",
      "\u001b[0;31mKeyboardInterrupt\u001b[0m                         Traceback (most recent call last)",
      "\u001b[0;32m<ipython-input-24-faecc3efcd62>\u001b[0m in \u001b[0;36m<module>\u001b[0;34m()\u001b[0m\n\u001b[1;32m     55\u001b[0m             \u001b[0mpredicted\u001b[0m\u001b[0;34m.\u001b[0m\u001b[0mappend\u001b[0m\u001b[0;34m(\u001b[0m\u001b[0mto_numpy\u001b[0m\u001b[0;34m(\u001b[0m\u001b[0my_pred\u001b[0m\u001b[0;34m)\u001b[0m\u001b[0;34m[\u001b[0m\u001b[0;36m0\u001b[0m\u001b[0;34m]\u001b[0m\u001b[0;34m)\u001b[0m\u001b[0;34m\u001b[0m\u001b[0m\n\u001b[1;32m     56\u001b[0m \u001b[0;34m\u001b[0m\u001b[0m\n\u001b[0;32m---> 57\u001b[0;31m         \u001b[0my_pred\u001b[0m \u001b[0;34m=\u001b[0m \u001b[0mmedim\u001b[0m\u001b[0;34m.\u001b[0m\u001b[0mutils\u001b[0m\u001b[0;34m.\u001b[0m\u001b[0mcombine\u001b[0m\u001b[0;34m(\u001b[0m\u001b[0mpredicted\u001b[0m\u001b[0;34m,\u001b[0m \u001b[0mn_parts\u001b[0m\u001b[0;34m)\u001b[0m\u001b[0;34m\u001b[0m\u001b[0m\n\u001b[0m\u001b[1;32m     58\u001b[0m \u001b[0;34m\u001b[0m\u001b[0m\n\u001b[1;32m     59\u001b[0m         \u001b[0mdices\u001b[0m\u001b[0;34m.\u001b[0m\u001b[0mappend\u001b[0m\u001b[0;34m(\u001b[0m\u001b[0;34m[\u001b[0m\u001b[0mdice_score\u001b[0m\u001b[0;34m(\u001b[0m\u001b[0my_pred\u001b[0m\u001b[0;34m[\u001b[0m\u001b[0mk\u001b[0m\u001b[0;34m]\u001b[0m \u001b[0;34m>\u001b[0m \u001b[0;36m0.5\u001b[0m\u001b[0;34m,\u001b[0m \u001b[0mmsegm\u001b[0m\u001b[0;34m[\u001b[0m\u001b[0mk\u001b[0m\u001b[0;34m]\u001b[0m\u001b[0;34m)\u001b[0m \u001b[0;32mfor\u001b[0m \u001b[0mk\u001b[0m \u001b[0;32min\u001b[0m \u001b[0mrange\u001b[0m\u001b[0;34m(\u001b[0m\u001b[0mn_classes\u001b[0m\u001b[0;34m)\u001b[0m\u001b[0;34m]\u001b[0m\u001b[0;34m)\u001b[0m\u001b[0;34m\u001b[0m\u001b[0m\n",
      "\u001b[0;32m/home/mount/neuro-t01-ssd/home/krivov/anaconda3/lib/python3.6/site-packages/medim/utils.py\u001b[0m in \u001b[0;36mcombine\u001b[0;34m(parts, n_parts)\u001b[0m\n\u001b[1;32m     34\u001b[0m             \u001b[0;32mfor\u001b[0m \u001b[0mk\u001b[0m \u001b[0;32min\u001b[0m \u001b[0mrange\u001b[0m\u001b[0;34m(\u001b[0m\u001b[0mn_parts\u001b[0m\u001b[0;34m[\u001b[0m\u001b[0;36m2\u001b[0m\u001b[0;34m]\u001b[0m\u001b[0;34m)\u001b[0m\u001b[0;34m:\u001b[0m\u001b[0;34m\u001b[0m\u001b[0m\n\u001b[1;32m     35\u001b[0m                 \u001b[0mzs\u001b[0m\u001b[0;34m.\u001b[0m\u001b[0mappend\u001b[0m\u001b[0;34m(\u001b[0m\u001b[0mparts\u001b[0m\u001b[0;34m.\u001b[0m\u001b[0mpop\u001b[0m\u001b[0;34m(\u001b[0m\u001b[0;36m0\u001b[0m\u001b[0;34m)\u001b[0m\u001b[0;34m)\u001b[0m\u001b[0;34m\u001b[0m\u001b[0m\n\u001b[0;32m---> 36\u001b[0;31m             \u001b[0my\u001b[0m \u001b[0;34m=\u001b[0m \u001b[0mnp\u001b[0m\u001b[0;34m.\u001b[0m\u001b[0mconcatenate\u001b[0m\u001b[0;34m(\u001b[0m\u001b[0mzs\u001b[0m\u001b[0;34m,\u001b[0m \u001b[0maxis\u001b[0m\u001b[0;34m=\u001b[0m\u001b[0;36m3\u001b[0m\u001b[0;34m)\u001b[0m\u001b[0;34m\u001b[0m\u001b[0m\n\u001b[0m\u001b[1;32m     37\u001b[0m             \u001b[0mys\u001b[0m\u001b[0;34m.\u001b[0m\u001b[0mappend\u001b[0m\u001b[0;34m(\u001b[0m\u001b[0my\u001b[0m\u001b[0;34m)\u001b[0m\u001b[0;34m\u001b[0m\u001b[0m\n\u001b[1;32m     38\u001b[0m         \u001b[0mx\u001b[0m \u001b[0;34m=\u001b[0m \u001b[0mnp\u001b[0m\u001b[0;34m.\u001b[0m\u001b[0mconcatenate\u001b[0m\u001b[0;34m(\u001b[0m\u001b[0mys\u001b[0m\u001b[0;34m,\u001b[0m \u001b[0maxis\u001b[0m\u001b[0;34m=\u001b[0m\u001b[0;36m2\u001b[0m\u001b[0;34m)\u001b[0m\u001b[0;34m\u001b[0m\u001b[0m\n",
      "\u001b[0;31mKeyboardInterrupt\u001b[0m: "
     ]
    }
   ],
   "source": [
    "n_parts = [1, 2, 1]\n",
    "\n",
    "n_epoch = 100\n",
    "batch_per_epoch = 40\n",
    "batch_size = 128\n",
    "\n",
    "for epoch in range(n_epoch):\n",
    "    train_iter = medim.batch_iter.patch.uniform(\n",
    "        mscans_train, msegms_train, batch_size=batch_size,\n",
    "        patch_size_x=patch_size_x, patch_size_y=patch_size_y, \n",
    "    )\n",
    "    \n",
    "    start_train = time.time()\n",
    "    \n",
    "    model.train()\n",
    "    losses = []\n",
    "    for _ in tqdm(range(batch_per_epoch)):\n",
    "        x_batch, y_batch = next(train_iter)\n",
    "\n",
    "        y_pred = model(to_var(x_batch))\n",
    "\n",
    "        optimizer.zero_grad()\n",
    "        loss = F.binary_cross_entropy(y_pred, to_var(y_batch))\n",
    "\n",
    "        loss.backward()\n",
    "        optimizer.step()\n",
    "\n",
    "        losses.append(to_numpy(loss))\n",
    "    \n",
    "    end_train = time.time()\n",
    "    train_loss = np.mean(losses)\n",
    "    \n",
    "    print('Epoch {}'.format(epoch))\n",
    "    print('Train:', train_loss, flush=True)\n",
    "    \n",
    "    start_val = time.time()\n",
    "    \n",
    "    model.eval()\n",
    "    losses = []\n",
    "    dices = []\n",
    "    for mscan, msegm in tqdm(zip(mscans_val_padded, msegms_val)):\n",
    "        msegm = np.array(msegm, dtype=np.float32)\n",
    "\n",
    "        mscan_parts = medim.utils.divide(mscan, padding, n_parts)\n",
    "        msegm_parts = medim.utils.divide(msegm, [0, 0, 0], n_parts)\n",
    "\n",
    "        predicted = []\n",
    "        for mscan_part, msegm_part in zip(mscan_parts, msegm_parts):\n",
    "            o = np.array(mscan_part[None, :])\n",
    "\n",
    "            y_pred = model(to_var(o, volatile=True))\n",
    "            loss = F.binary_cross_entropy(y_pred, to_var(msegm_part[None, :], volatile=True))\n",
    "            losses.append(to_numpy(loss))\n",
    "\n",
    "            predicted.append(to_numpy(y_pred)[0])\n",
    "    \n",
    "        y_pred = medim.utils.combine(predicted, n_parts)\n",
    "        \n",
    "        dices.append([dice_score(y_pred[k] > 0.5, msegm[k]) for k in range(n_classes)])\n",
    "    \n",
    "    end_val = time.time()\n",
    "    \n",
    "    val_loss = np.mean(losses)\n",
    "    val_dices = np.mean(dices, axis=0)\n",
    "\n",
    "    print('Val  :', val_loss)\n",
    "    print('Val  :', val_dices)\n",
    "    print('Time :', end_train - start_train, end_val - start_val)\n",
    "    print('\\n', flush=True)"
   ]
  },
  {
   "cell_type": "code",
   "execution_count": 25,
   "metadata": {
    "collapsed": false
   },
   "outputs": [
    {
     "name": "stderr",
     "output_type": "stream",
     "text": [
      "6it [00:16,  2.80s/it]\n"
     ]
    }
   ],
   "source": [
    "y_preds = []\n",
    "\n",
    "model.eval()\n",
    "for mscan, msegm in tqdm(zip(mscans_val_padded, msegms_val)):\n",
    "    msegm = np.array(msegm, dtype=np.float32)\n",
    "\n",
    "    mscan_parts = medim.utils.divide(mscan, padding, n_parts)\n",
    "    msegm_parts = medim.utils.divide(msegm, [0, 0, 0], n_parts)\n",
    "\n",
    "    predicted = []\n",
    "    for mscan_part, msegm_part in zip(mscan_parts, msegm_parts):\n",
    "        o = np.array(mscan_part[None, :])\n",
    "\n",
    "        y_pred = model(to_var(o, volatile=True))\n",
    "        loss = F.binary_cross_entropy(y_pred, to_var(msegm_part[None, :], volatile=True))\n",
    "        \n",
    "        predicted.append(to_numpy(y_pred)[0])\n",
    "\n",
    "    y_pred = medim.utils.combine(predicted, n_parts)\n",
    "    y_preds.append(y_pred)"
   ]
  },
  {
   "cell_type": "code",
   "execution_count": 73,
   "metadata": {
    "collapsed": false
   },
   "outputs": [
    {
     "name": "stdout",
     "output_type": "stream",
     "text": [
      "0.826240742506\n",
      "0.752797255717\n"
     ]
    },
    {
     "name": "stderr",
     "output_type": "stream",
     "text": [
      "/home/mount/neuro-t01-ssd/home/krivov/anaconda3/lib/python3.6/site-packages/ipykernel/__main__.py:3: RuntimeWarning: invalid value encountered in long_scalars\n",
      "  app.launch_new_instance()\n"
     ]
    },
    {
     "name": "stdout",
     "output_type": "stream",
     "text": [
      "0.52705957917\n"
     ]
    },
    {
     "data": {
      "text/plain": [
       "[0.39393939393939398, 0.24242424242424243, 0.27272727272727276]"
      ]
     },
     "execution_count": 73,
     "metadata": {},
     "output_type": "execute_result"
    }
   ],
   "source": [
    "def get_dice_threshold(y_preds, msegms):\n",
    "    thresholds = []\n",
    "    for i in range(n_classes):\n",
    "        ps = np.linspace(0, 1, 100)\n",
    "        best_p = 0\n",
    "        best_score = 0\n",
    "        for p in ps:\n",
    "            score = np.mean([dice_score(pred[i] > p, true[i]) for pred, true in zip(y_preds, msegms)])\n",
    "            if score is np.nan or None:\n",
    "                print('None')\n",
    "                score = 1\n",
    "            \n",
    "            if score > best_score:\n",
    "                best_p = p\n",
    "                best_score = score\n",
    "        thresholds.append(best_p)\n",
    "        print(best_score)\n",
    "    return thresholds\n",
    "\n",
    "thresholds = get_dice_threshold(y_preds, msegms_val)\n",
    "thresholds"
   ]
  },
  {
   "cell_type": "code",
   "execution_count": 37,
   "metadata": {
    "collapsed": false
   },
   "outputs": [
    {
     "name": "stderr",
     "output_type": "stream",
     "text": [
      "57it [11:18, 11.80s/it]\n"
     ]
    }
   ],
   "source": [
    "y_preds_t = []\n",
    "\n",
    "model.eval()\n",
    "for mscan, msegm in tqdm(zip(mscans_test, msegms_test)):\n",
    "    mscan = min_padding(mscan, padding)\n",
    "    msegm = np.array(msegm, dtype=np.float32)\n",
    "\n",
    "    mscan_parts = medim.utils.divide(mscan, padding, n_parts)\n",
    "    msegm_parts = medim.utils.divide(msegm, [0, 0, 0], n_parts)\n",
    "\n",
    "    predicted = []\n",
    "    for mscan_part, msegm_part in zip(mscan_parts, msegm_parts):\n",
    "        o = np.array(mscan_part[None, :])\n",
    "\n",
    "        y_pred = model(to_var(o, volatile=True))\n",
    "        loss = F.binary_cross_entropy(y_pred, to_var(msegm_part[None, :], volatile=True))\n",
    "        \n",
    "        predicted.append(to_numpy(y_pred)[0])\n",
    "\n",
    "    y_pred = medim.utils.combine(predicted, n_parts)\n",
    "    y_preds_t.append(y_pred)"
   ]
  },
  {
   "cell_type": "code",
   "execution_count": 74,
   "metadata": {
    "collapsed": false
   },
   "outputs": [
    {
     "name": "stderr",
     "output_type": "stream",
     "text": [
      "/home/mount/neuro-t01-ssd/home/krivov/anaconda3/lib/python3.6/site-packages/ipykernel/__main__.py:3: RuntimeWarning: invalid value encountered in long_scalars\n",
      "  app.launch_new_instance()\n"
     ]
    },
    {
     "data": {
      "text/plain": [
       "array([ 0.81615617,  0.6933758 ,  0.66851959])"
      ]
     },
     "execution_count": 74,
     "metadata": {},
     "output_type": "execute_result"
    }
   ],
   "source": [
    "np.mean([[dice_score(y_preds_t[i][k] > thresholds[k], msegms_test[i][k]) for k in range(n_classes)]\n",
    "         for i in range(len(y_preds_t))], axis=0)"
   ]
  },
  {
   "cell_type": "code",
   "execution_count": 75,
   "metadata": {
    "collapsed": false
   },
   "outputs": [
    {
     "data": {
      "text/plain": [
       "(222, 6, 57)"
      ]
     },
     "execution_count": 75,
     "metadata": {},
     "output_type": "execute_result"
    }
   ],
   "source": [
    "len(mscans_train), len(mscans_val), len(mscans_test)"
   ]
  },
  {
   "cell_type": "code",
   "execution_count": 97,
   "metadata": {
    "collapsed": false
   },
   "outputs": [
    {
     "data": {
      "image/png": "[encoded data removed]",
      "text/plain": [
       "<matplotlib.figure.Figure at 0x7f24f9829160>"
      ]
     },
     "metadata": {},
     "output_type": "display_data"
    }
   ],
   "source": [
    "fig, ax = plt.subplots(2, 2, sharex=True, sharey=True, figsize=(15, 15))\n",
    "\n",
    "i = 4\n",
    "k = 90\n",
    "\n",
    "cmap = cm.GnBu\n",
    "fontsize = 30\n",
    "\n",
    "ax[0, 0].set_title('Predicted segmentation', fontsize=fontsize)\n",
    "ax[0, 0].imshow(y_preds_t[i][0, ..., k], cmap=cmap)\n",
    "#plt.colorbar()\n",
    "#plt.show()\n",
    "ax[0, 1].set_title('Ground truth', fontsize=fontsize)\n",
    "ax[0, 1].imshow(msegms_test[i][0, ..., k], cmap=cmap)\n",
    "\n",
    "ax[1,0].set_title('Brain slice', fontsize=fontsize)\n",
    "ax[1, 0].imshow(mscans_test[i][3, ..., k], cmap=cmap)\n",
    "plt.tight_layout()\n",
    "ax[0, 0].axis('off')\n",
    "ax[1, 0].axis('off')\n",
    "ax[0, 1].axis('off')\n",
    "ax[1, 1].axis('off')\n",
    "plt.show()\n",
    "#plt.colorbar()\n",
    "#plt.show()"
   ]
  },
  {
   "cell_type": "code",
   "execution_count": 8,
   "metadata": {
    "collapsed": false
   },
   "outputs": [],
   "source": [
    "# def pred_reshape(y):\n",
    "#     x = y.permute(0, 2, 3, 4, 1)\n",
    "#     return x.contiguous().view(-1, x.size()[-1])\n",
    "\n",
    "# def loss_cross_entropy(y_pred, y_true):\n",
    "#     return F.cross_entropy(pred_reshape(y_pred), y_true.view(-1))\n",
    "\n",
    "\n",
    "coeff = to_var(np.array([1, 2, 3], dtype=np.float32))\n",
    "epsilon = 1e-7\n",
    "\n",
    "def dice_loss(y_pred, target):\n",
    "    y_pred = y_pred.view(*y_pred.size()[:2], -1)\n",
    "    target = target.view(*target.size()[:2], -1)\n",
    "    \n",
    "#     s = y_pred.size()\n",
    "#     e = epsilon.expand(s[0], 1, s[2])\n",
    "    dice_scores = 2 * (epsilon + (y_pred * target).sum(2)) / \\\n",
    "                  (y_pred.sum(2) + target.sum(2) + 2 * epsilon)\n",
    "        \n",
    "    dice_scores = dice_scores.mean(0)\n",
    "    dice_scores = dice_scores.view(-1)\n",
    "\n",
    "    return -torch.sum(dice_scores * coeff)"
   ]
  }
 ],
 "metadata": {
  "kernelspec": {
   "display_name": "Python 3",
   "language": "python",
   "name": "python3"
  },
  "language_info": {
   "codemirror_mode": {
    "name": "ipython",
    "version": 3
   },
   "file_extension": ".py",
   "mimetype": "text/x-python",
   "name": "python",
   "nbconvert_exporter": "python",
   "pygments_lexer": "ipython3",
   "version": "3.6.0"
  }
 },
 "nbformat": 4,
 "nbformat_minor": 2
}
