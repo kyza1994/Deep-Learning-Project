{
 "cells": [
  {
   "cell_type": "code",
   "execution_count": 1,
   "metadata": {
    "collapsed": false
   },
   "outputs": [],
   "source": [
    "import matplotlib.pyplot as plt\n",
    "import matplotlib.cm as cm\n",
    "%matplotlib inline\n",
    "\n",
    "import time\n",
    "import pickle\n",
    "from imp import reload\n",
    "from os.path import join\n",
    "\n",
    "from sklearn.model_selection import KFold\n",
    "import pandas as pd\n",
    "import numpy as np\n",
    "from tqdm import tqdm\n",
    "\n",
    "import torch\n",
    "import torch.nn as nn\n",
    "import torch.nn.functional as F\n",
    "from torch.autograd import Variable\n",
    "\n",
    "from data_loader import DataLoader\n",
    "import medim\n",
    "reload(medim);"
   ]
  },
  {
   "cell_type": "code",
   "execution_count": 2,
   "metadata": {
    "collapsed": true
   },
   "outputs": [],
   "source": [
    "raw_path = '/home/mount/neuro-t01-hdd/Brats2017/data/raw/'\n",
    "\n",
    "data_loader = DataLoader(raw_path)\n",
    "patients = data_loader.patients\n",
    "\n",
    "n_classes = 3"
   ]
  },
  {
   "cell_type": "code",
   "execution_count": 3,
   "metadata": {
    "collapsed": false
   },
   "outputs": [
    {
     "name": "stderr",
     "output_type": "stream",
     "text": [
      "100%|██████████| 285/285 [00:45<00:00,  5.35it/s]\n"
     ]
    }
   ],
   "source": [
    "processed_path = '/mount/export/Brats2017/data/processed'\n",
    "mscans = []\n",
    "msegms = []\n",
    "\n",
    "for patient in tqdm(patients):\n",
    "    filename = join(processed_path, patient)\n",
    "    \n",
    "    mscans.append(np.load(filename+'_mscan.npy'))\n",
    "    msegms.append(np.load(filename+'_segmentation.npy'))"
   ]
  },
  {
   "cell_type": "code",
   "execution_count": 4,
   "metadata": {
    "collapsed": true
   },
   "outputs": [],
   "source": [
    "n_splits = 5\n",
    "\n",
    "cv = KFold(n_splits, shuffle=True, random_state=42)\n",
    "tr, test = next(cv.split(mscans))\n",
    "\n",
    "def extract(l, idx):\n",
    "    return [l[i] for i in idx]\n",
    "\n",
    "mscans_tr, mscans_test = extract(mscans, tr), extract(mscans, test)\n",
    "msegms_tr, msegms_test = extract(msegms, tr), extract(msegms, test)"
   ]
  },
  {
   "cell_type": "code",
   "execution_count": 5,
   "metadata": {
    "collapsed": false
   },
   "outputs": [],
   "source": [
    "n_splits = 40\n",
    "\n",
    "cv = KFold(n_splits, shuffle=True, random_state=21)\n",
    "train, val = next(cv.split(mscans_tr))\n",
    "\n",
    "def extract(l, idx):\n",
    "    return [l[i] for i in idx]\n",
    "\n",
    "mscans_train, mscans_val = extract(mscans_tr, train), extract(mscans_tr, val)\n",
    "msegms_train, msegms_val = extract(msegms_tr, train), extract(msegms_tr, val)"
   ]
  },
  {
   "cell_type": "code",
   "execution_count": 6,
   "metadata": {
    "collapsed": false
   },
   "outputs": [
    {
     "name": "stdout",
     "output_type": "stream",
     "text": [
      "285 57 222 6\n"
     ]
    }
   ],
   "source": [
    "print(len(mscans), len(mscans_test), len(mscans_train), len(mscans_val))"
   ]
  },
  {
   "cell_type": "code",
   "execution_count": 7,
   "metadata": {
    "collapsed": false
   },
   "outputs": [
    {
     "name": "stdout",
     "output_type": "stream",
     "text": [
      "(4, 140, 172, 145)\n"
     ]
    }
   ],
   "source": [
    "print(mscans[0].shape)"
   ]
  },
  {
   "cell_type": "code",
   "execution_count": 8,
   "metadata": {
    "collapsed": true
   },
   "outputs": [],
   "source": [
    "# Residual Block\n",
    "class ResidualBlock(nn.Module):\n",
    "    def __init__(self, in_channels, out_channels, kernel_size):\n",
    "        super(ResidualBlock, self).__init__()\n",
    "        \n",
    "        self.in_channels = in_channels\n",
    "        self.out_channels = out_channels\n",
    "        self.padding = kernel_size - 1\n",
    "        \n",
    "        self.bn1 = nn.BatchNorm3d(in_channels)\n",
    "        self.relu = nn.ReLU(inplace=True)\n",
    "        self.conv1 = nn.Conv3d(in_channels, out_channels, kernel_size, bias=False)\n",
    "        self.bn2 = nn.BatchNorm3d(out_channels)\n",
    "        self.conv2 = nn.Conv3d(out_channels, out_channels, kernel_size, bias=False)\n",
    "        \n",
    "    def forward(self, x):\n",
    "        residual = torch.cat([x, Variable(torch.zeros(x.size())).cuda()], dim=1)\n",
    "        size = residual.size()\n",
    "        residual = residual.clone()\n",
    "        residual = residual[:,:self.out_channels, self.padding:size[2]-self.padding, \n",
    "                            self.padding:size[3]-self.padding, self.padding:size[4]-self.padding]\n",
    "        out = self.bn1(x)\n",
    "        out = self.relu(out)\n",
    "        out = self.conv1(out)\n",
    "        out = self.bn2(out)\n",
    "        out = self.relu(out)\n",
    "        out = self.conv2(out)\n",
    "        out = out.clone() + residual\n",
    "        return out\n",
    "\n",
    "class Model(nn.Module):\n",
    "    def __init__(self, block, n_chans_path1, n_chans_path2, n_chans_common_part, kernel_size, num_classes=3):\n",
    "        super(Model, self).__init__()\n",
    "        in_channels = 4\n",
    "        #path1\n",
    "        self.bn1 = nn.BatchNorm3d(in_channels)\n",
    "        self.relu = nn.ReLU(inplace=True)\n",
    "        self.conv1 = nn.Conv3d(in_channels, n_chans_path1[0], kernel_size, bias=False)\n",
    "        \n",
    "        self.bn2 = nn.BatchNorm3d(n_chans_path1[0])\n",
    "        self.conv2 = nn.Conv3d(n_chans_path1[0], n_chans_path1[1], kernel_size, bias=False)\n",
    "        \n",
    "        self.layer1 = block(n_chans_path1[1], n_chans_path1[2], kernel_size)\n",
    "        self.layer2 = block(n_chans_path1[2], n_chans_path1[4], kernel_size)\n",
    "        self.layer3 = block(n_chans_path1[4], n_chans_path1[6], kernel_size)\n",
    "        \n",
    "        #path2\n",
    "        self.avg_pool = nn.AvgPool3d(3)\n",
    "        self.bn3 = nn.BatchNorm3d(in_channels)\n",
    "        self.conv3 = nn.Conv3d(in_channels, n_chans_path2[0], kernel_size, bias=False)\n",
    "        \n",
    "        self.bn4 = nn.BatchNorm3d(n_chans_path2[0])\n",
    "        self.conv4 = nn.Conv3d(n_chans_path2[0], n_chans_path2[1], kernel_size, bias=False)\n",
    "        \n",
    "        self.layer4 = block(n_chans_path2[1], n_chans_path2[2], kernel_size)\n",
    "        self.layer5 = block(n_chans_path2[2], n_chans_path2[4], kernel_size)\n",
    "        self.layer6 = block(n_chans_path2[4], n_chans_path2[6], kernel_size)\n",
    "        \n",
    "        \n",
    "        self.convTr = torch.nn.ConvTranspose3d(n_chans_path2[6], n_chans_path2[8], kernel_size=5, \n",
    "                                               stride=3, padding=1)\n",
    "        \n",
    "        self.layer7 = block(n_chans_common_part[0], n_chans_common_part[2], 1)\n",
    "        \n",
    "        self.conv5 = nn.Conv3d(n_chans_common_part[2], n_chans_common_part[3], 1, bias=False)\n",
    "        self.bn5 = nn.BatchNorm3d(n_chans_common_part[3])\n",
    "        self.s = nn.Sigmoid()\n",
    "        \n",
    "    def forward(self, x, x_ext):\n",
    "        out_path1 = self.bn1(x)\n",
    "        out_path1 = self.relu(out_path1)\n",
    "        out_path1 = self.conv1(out_path1)\n",
    "        out_path1 = self.bn2(out_path1)\n",
    "        out_path1 = self.relu(out_path1)\n",
    "        out_path1 = self.conv2(out_path1)\n",
    "        out_path1 = self.layer1(out_path1)\n",
    "        out_path1 = self.layer2(out_path1)\n",
    "        out_path1 = self.layer3(out_path1)\n",
    "        \n",
    "        out_path2 = self.avg_pool(x_ext)\n",
    "        out_path2 = self.bn3(out_path2)\n",
    "        out_path2 = self.relu(out_path2)\n",
    "        out_path2 = self.conv3(out_path2)\n",
    "        out_path2 = self.bn4(out_path2)\n",
    "        out_path2 = self.relu(out_path2)\n",
    "        out_path2 = self.conv4(out_path2)\n",
    "        out_path2 = self.layer4(out_path2)\n",
    "        out_path2 = self.layer5(out_path2)\n",
    "        out_path2 = self.layer6(out_path2)\n",
    "        out_path2 = self.convTr(out_path2)\n",
    "        \n",
    "        out = torch.cat([out_path1, out_path2], dim=1)\n",
    "        \n",
    "        out = self.layer7(out)\n",
    "        out = self.conv5(out)\n",
    "        out = self.bn5(out)\n",
    "        out = self.s(out)\n",
    "        return out"
   ]
  },
  {
   "cell_type": "code",
   "execution_count": 9,
   "metadata": {
    "collapsed": false
   },
   "outputs": [],
   "source": [
    "kernel_size = 3\n",
    "n_chans_path1 = [30, 30, 40, 40, 40, 40, 50, 50]\n",
    "n_chans_path2 = [30, 30, 40, 40, 40, 40, 50, 50, 50]\n",
    "n_chans_common_part = [100, 150, 150, n_classes]\n",
    "\n",
    "patch_size_x = np.array([25, 25, 25])\n",
    "patch_size_x_ext = patch_size_x + 32\n",
    "patch_size_y = patch_size_x - 2*(len(n_chans_path1))\n",
    "\n",
    "model = Model(ResidualBlock, n_chans_path1, n_chans_path2,\n",
    "              n_chans_common_part, kernel_size).cuda()\n",
    "\n",
    "optimizer = torch.optim.Adam(model.parameters(), lr=0.1)"
   ]
  },
  {
   "cell_type": "code",
   "execution_count": 10,
   "metadata": {
    "collapsed": true
   },
   "outputs": [],
   "source": [
    "padding = (patch_size_x - patch_size_y) // 2\n",
    "padding_ext = (patch_size_x_ext - patch_size_y) // 2\n",
    "\n",
    "def min_padding(mscan, padding):\n",
    "    padding = np.array([0] + list(padding))\n",
    "    padding = np.repeat(padding[:, None], 2, axis=1)\n",
    "    \n",
    "    return np.pad(mscan, padding, mode='minimum')"
   ]
  },
  {
   "cell_type": "code",
   "execution_count": 11,
   "metadata": {
    "collapsed": false
   },
   "outputs": [],
   "source": [
    "def pred_reshape(y):\n",
    "    x = y.permute(0, 2, 3, 4, 1)\n",
    "    return x.contiguous().view(-1, x.size()[-1])\n",
    "\n",
    "def loss_cross_entropy(y_pred, y_true):\n",
    "    return F.cross_entropy(pred_reshape(y_pred), y_true.view(-1))\n",
    "\n",
    "def loss_binary_entropy(y_pred, y_true):\n",
    "    return F.binary_cross_entropy(y_pred, y_true)\n",
    "\n",
    "def to_var(x, volatile=False):\n",
    "    return Variable(torch.from_numpy(x), volatile=volatile).cuda()\n",
    "\n",
    "def to_numpy(x):\n",
    "    return x.cpu().data.numpy()\n",
    "\n",
    "coeff = to_var(np.array([1, 2, 3], dtype=np.float32))\n",
    "epsilon = 1e-7\n",
    "\n",
    "def dice_loss(y_pred, target):\n",
    "    y_pred = y_pred.view(*y_pred.size()[:2], -1)\n",
    "    target = target.view(*target.size()[:2], -1)\n",
    "    \n",
    "#     s = y_pred.size()\n",
    "#     e = epsilon.expand(s[0], 1, s[2])\n",
    "    dice_scores = 2 * (epsilon + (y_pred * target).sum(2)) / \\\n",
    "                  (y_pred.sum(2) + target.sum(2) + 2 * epsilon)\n",
    "        \n",
    "    dice_scores = dice_scores.mean(0)\n",
    "    dice_scores = dice_scores.view(-1)\n",
    "\n",
    "    return -torch.sum(dice_scores * coeff)\n",
    "\n",
    "def dice_score(y_pred, target):\n",
    "    \"\"\"Dice score for binary segmentation on 3d scan\"\"\"\n",
    "    dcs = 2 * np.sum(y_pred * target) / (np.sum(y_pred) + np.sum(target))\n",
    "    if np.isnan(dcs):\n",
    "        return 1\n",
    "    else:\n",
    "        return dcs"
   ]
  },
  {
   "cell_type": "code",
   "execution_count": 12,
   "metadata": {
    "collapsed": false
   },
   "outputs": [],
   "source": [
    "def uniform_ext(mscans, msegms, *, batch_size, patch_size_x_ext, patch_size_x, patch_size_y):\n",
    "    \"\"\"Patch iterator with uniformed distribution over spatial dimensions\"\"\"\n",
    "    assert np.all(patch_size_x % 2 == patch_size_y % 2)\n",
    "    patch_size_pad = (patch_size_x - patch_size_y) // 2\n",
    "    patch_size_pad_ext = (patch_size_x_ext - patch_size_y) // 2\n",
    "\n",
    "    n = len(mscans)\n",
    "\n",
    "    max_spatial_idy = np.array(\n",
    "        [list(s.shape[1:]) for s in mscans]) - patch_size_y + 1\n",
    "\n",
    "    x_batch_ext = np.zeros((batch_size, mscans[0].shape[0], *patch_size_x_ext), dtype=np.float32)\n",
    "    x_batch = np.zeros((batch_size, mscans[0].shape[0], *patch_size_x), dtype=np.float32)\n",
    "    y_batch = np.zeros((batch_size, msegms[0].shape[0], *patch_size_y), dtype=np.float32)\n",
    "\n",
    "    while True:\n",
    "        idy = np.random.randint(n, size=batch_size)\n",
    "        start_idy = np.random.rand(batch_size, 3) * max_spatial_idy[idy]\n",
    "        start_idy = np.int32(np.floor(start_idy))\n",
    "        for i in range(batch_size):\n",
    "            s = start_idy[i]\n",
    "            slices = [...] + [slice(s[k], s[k] + patch_size_y[k]) for k in\n",
    "                              range(3)]\n",
    "            y_batch[i] = msegms[idy[i]][slices]\n",
    "\n",
    "            s = start_idy[i] - patch_size_pad\n",
    "            e = s + patch_size_x\n",
    "            padding_l = [0] + [-s[i] if s[i] < 0 else 0 for i in range(s.shape[0])]\n",
    "            padding_r = [0] + [-mscans[idy[i]].shape[k+1] + e[k] if e[k] >= mscans[idy[i]].shape[k+1] else 0 \n",
    "                               for k in range(e.shape[0])]\n",
    "            padding = list(zip(padding_l, padding_r))\n",
    "            slices = [...] + [slice(max(s[k], 0), min(e[k], mscans[idy[i]].shape[k+1])) \n",
    "                              for k in range(3)]\n",
    "            \n",
    "            min_const = np.amin(mscans[idy[i]])\n",
    "            x_batch[i] = np.pad(mscans[idy[i]][slices], padding, mode='constant', constant_values=min_const)\n",
    "            \n",
    "            s = start_idy[i] - patch_size_pad_ext\n",
    "            e = s + patch_size_x_ext\n",
    "            padding_l = [0] + [-s[i] if s[i] < 0 else 0 for i in range(s.shape[0])]\n",
    "            padding_r = [0] + [-mscans[idy[i]].shape[k+1] + e[k] if e[k] >= mscans[idy[i]].shape[k+1] else 0 \\\n",
    "                               for k in range(e.shape[0])]\n",
    "            padding = list(zip(padding_l, padding_r))\n",
    "            slices = [...] + [slice(max(s[k], 0), min(e[k], mscans[idy[i]].shape[k+1])) \n",
    "                              for k in range(3)]\n",
    "            \n",
    "            min_const = np.amin(mscans[idy[i]])\n",
    "            x_batch_ext[i] = np.pad(mscans[idy[i]][slices], padding, mode='constant', constant_values=min_const)\n",
    "        yield np.array(x_batch_ext), np.array(x_batch), np.array(y_batch)"
   ]
  },
  {
   "cell_type": "code",
   "execution_count": 17,
   "metadata": {
    "collapsed": false
   },
   "outputs": [],
   "source": [
    "optimizer = torch.optim.Adam(model.parameters(), lr=0.001)"
   ]
  },
  {
   "cell_type": "code",
   "execution_count": 18,
   "metadata": {
    "collapsed": false,
    "scrolled": true
   },
   "outputs": [
    {
     "name": "stderr",
     "output_type": "stream",
     "text": [
      "100%|██████████| 40/40 [01:11<00:00,  1.77s/it]\n",
      "4it [00:18,  4.72s/it]/home/mount/neuro-t01-ssd/home/krivov/anaconda3/lib/python3.6/site-packages/ipykernel/__main__.py:35: RuntimeWarning: invalid value encountered in double_scalars\n",
      "6it [00:28,  4.92s/it]\n",
      "  0%|          | 0/40 [00:00<?, ?it/s]"
     ]
    },
    {
     "name": "stdout",
     "output_type": "stream",
     "text": [
      "Epoch 0\n",
      "Train: 0.0273696730379\n",
      "Val  : 0.0230069 [ 0.77970669  0.50798962  0.4366126 ]\n",
      "Time : 71.4783148765564 28.89525318145752\n",
      "\n",
      "\n"
     ]
    },
    {
     "name": "stderr",
     "output_type": "stream",
     "text": [
      "100%|██████████| 40/40 [01:09<00:00,  1.74s/it]\n",
      "6it [00:28,  4.88s/it]\n",
      "  0%|          | 0/40 [00:00<?, ?it/s]"
     ]
    },
    {
     "name": "stdout",
     "output_type": "stream",
     "text": [
      "Epoch 1\n",
      "Train: 0.0254517999012\n",
      "Val  : 0.0233917 [ 0.77741008  0.44962648  0.40410545]\n",
      "Time : 69.84452414512634 28.648496866226196\n",
      "\n",
      "\n"
     ]
    },
    {
     "name": "stderr",
     "output_type": "stream",
     "text": [
      "100%|██████████| 40/40 [01:09<00:00,  1.74s/it]\n",
      "6it [00:28,  4.87s/it]\n",
      "  0%|          | 0/40 [00:00<?, ?it/s]"
     ]
    },
    {
     "name": "stdout",
     "output_type": "stream",
     "text": [
      "Epoch 2\n",
      "Train: 0.0276435968233\n",
      "Val  : 0.0230914 [ 0.7787553   0.47743197  0.39411342]\n",
      "Time : 69.76012659072876 28.537301063537598\n",
      "\n",
      "\n"
     ]
    },
    {
     "name": "stderr",
     "output_type": "stream",
     "text": [
      "100%|██████████| 40/40 [01:09<00:00,  1.75s/it]\n",
      "6it [00:28,  4.87s/it]\n",
      "  0%|          | 0/40 [00:00<?, ?it/s]"
     ]
    },
    {
     "name": "stdout",
     "output_type": "stream",
     "text": [
      "Epoch 3\n",
      "Train: 0.0294483793899\n",
      "Val  : 0.0234536 [ 0.77709202  0.43174551  0.38232906]\n",
      "Time : 69.84876680374146 28.485759973526\n",
      "\n",
      "\n"
     ]
    },
    {
     "name": "stderr",
     "output_type": "stream",
     "text": [
      "100%|██████████| 40/40 [01:09<00:00,  1.74s/it]\n",
      "0it [00:00, ?it/s]\n"
     ]
    },
    {
     "ename": "KeyboardInterrupt",
     "evalue": "",
     "output_type": "error",
     "traceback": [
      "\u001b[0;31m---------------------------------------------------------------------------\u001b[0m",
      "\u001b[0;31mKeyboardInterrupt\u001b[0m                         Traceback (most recent call last)",
      "\u001b[0;32m<ipython-input-18-e7d77f234c2e>\u001b[0m in \u001b[0;36m<module>\u001b[0;34m()\u001b[0m\n\u001b[1;32m     71\u001b[0m         \u001b[0my_pred1\u001b[0m \u001b[0;34m=\u001b[0m \u001b[0mto_numpy\u001b[0m\u001b[0;34m(\u001b[0m\u001b[0my_pred\u001b[0m\u001b[0;34m)\u001b[0m\u001b[0;34m\u001b[0m\u001b[0m\n\u001b[1;32m     72\u001b[0m \u001b[0;34m\u001b[0m\u001b[0m\n\u001b[0;32m---> 73\u001b[0;31m         \u001b[0my_pred\u001b[0m \u001b[0;34m=\u001b[0m \u001b[0mmodel\u001b[0m\u001b[0;34m(\u001b[0m\u001b[0mto_var\u001b[0m\u001b[0;34m(\u001b[0m\u001b[0mhalf_x_2\u001b[0m\u001b[0;34m,\u001b[0m \u001b[0mvolatile\u001b[0m\u001b[0;34m=\u001b[0m\u001b[0;32mTrue\u001b[0m\u001b[0;34m)\u001b[0m\u001b[0;34m,\u001b[0m \u001b[0mto_var\u001b[0m\u001b[0;34m(\u001b[0m\u001b[0mhalf_x_ext_2\u001b[0m\u001b[0;34m,\u001b[0m \u001b[0mvolatile\u001b[0m\u001b[0;34m=\u001b[0m\u001b[0;32mTrue\u001b[0m\u001b[0;34m)\u001b[0m\u001b[0;34m)\u001b[0m\u001b[0;34m\u001b[0m\u001b[0m\n\u001b[0m\u001b[1;32m     74\u001b[0m         \u001b[0mloss\u001b[0m \u001b[0;34m=\u001b[0m \u001b[0mF\u001b[0m\u001b[0;34m.\u001b[0m\u001b[0mbinary_cross_entropy\u001b[0m\u001b[0;34m(\u001b[0m\u001b[0my_pred\u001b[0m\u001b[0;34m,\u001b[0m \u001b[0mto_var\u001b[0m\u001b[0;34m(\u001b[0m\u001b[0mhalf_y_2\u001b[0m\u001b[0;34m)\u001b[0m\u001b[0;34m)\u001b[0m\u001b[0;34m\u001b[0m\u001b[0m\n\u001b[1;32m     75\u001b[0m         \u001b[0mlosses\u001b[0m\u001b[0;34m.\u001b[0m\u001b[0mappend\u001b[0m\u001b[0;34m(\u001b[0m\u001b[0mto_numpy\u001b[0m\u001b[0;34m(\u001b[0m\u001b[0mloss\u001b[0m\u001b[0;34m)\u001b[0m\u001b[0;34m)\u001b[0m\u001b[0;34m\u001b[0m\u001b[0m\n",
      "\u001b[0;32m/home/mount/neuro-t01-ssd/home/krivov/anaconda3/lib/python3.6/site-packages/torch/nn/modules/module.py\u001b[0m in \u001b[0;36m__call__\u001b[0;34m(self, *input, **kwargs)\u001b[0m\n\u001b[1;32m    204\u001b[0m \u001b[0;34m\u001b[0m\u001b[0m\n\u001b[1;32m    205\u001b[0m     \u001b[0;32mdef\u001b[0m \u001b[0m__call__\u001b[0m\u001b[0;34m(\u001b[0m\u001b[0mself\u001b[0m\u001b[0;34m,\u001b[0m \u001b[0;34m*\u001b[0m\u001b[0minput\u001b[0m\u001b[0;34m,\u001b[0m \u001b[0;34m**\u001b[0m\u001b[0mkwargs\u001b[0m\u001b[0;34m)\u001b[0m\u001b[0;34m:\u001b[0m\u001b[0;34m\u001b[0m\u001b[0m\n\u001b[0;32m--> 206\u001b[0;31m         \u001b[0mresult\u001b[0m \u001b[0;34m=\u001b[0m \u001b[0mself\u001b[0m\u001b[0;34m.\u001b[0m\u001b[0mforward\u001b[0m\u001b[0;34m(\u001b[0m\u001b[0;34m*\u001b[0m\u001b[0minput\u001b[0m\u001b[0;34m,\u001b[0m \u001b[0;34m**\u001b[0m\u001b[0mkwargs\u001b[0m\u001b[0;34m)\u001b[0m\u001b[0;34m\u001b[0m\u001b[0m\n\u001b[0m\u001b[1;32m    207\u001b[0m         \u001b[0;32mfor\u001b[0m \u001b[0mhook\u001b[0m \u001b[0;32min\u001b[0m \u001b[0mself\u001b[0m\u001b[0;34m.\u001b[0m\u001b[0m_forward_hooks\u001b[0m\u001b[0;34m.\u001b[0m\u001b[0mvalues\u001b[0m\u001b[0;34m(\u001b[0m\u001b[0;34m)\u001b[0m\u001b[0;34m:\u001b[0m\u001b[0;34m\u001b[0m\u001b[0m\n\u001b[1;32m    208\u001b[0m             \u001b[0mhook_result\u001b[0m \u001b[0;34m=\u001b[0m \u001b[0mhook\u001b[0m\u001b[0;34m(\u001b[0m\u001b[0mself\u001b[0m\u001b[0;34m,\u001b[0m \u001b[0minput\u001b[0m\u001b[0;34m,\u001b[0m \u001b[0mresult\u001b[0m\u001b[0;34m)\u001b[0m\u001b[0;34m\u001b[0m\u001b[0m\n",
      "\u001b[0;32m<ipython-input-8-66d95557a496>\u001b[0m in \u001b[0;36mforward\u001b[0;34m(self, x, x_ext)\u001b[0m\n\u001b[1;32m     92\u001b[0m         \u001b[0mout\u001b[0m \u001b[0;34m=\u001b[0m \u001b[0mtorch\u001b[0m\u001b[0;34m.\u001b[0m\u001b[0mcat\u001b[0m\u001b[0;34m(\u001b[0m\u001b[0;34m[\u001b[0m\u001b[0mout_path1\u001b[0m\u001b[0;34m,\u001b[0m \u001b[0mout_path2\u001b[0m\u001b[0;34m]\u001b[0m\u001b[0;34m,\u001b[0m \u001b[0mdim\u001b[0m\u001b[0;34m=\u001b[0m\u001b[0;36m1\u001b[0m\u001b[0;34m)\u001b[0m\u001b[0;34m\u001b[0m\u001b[0m\n\u001b[1;32m     93\u001b[0m \u001b[0;34m\u001b[0m\u001b[0m\n\u001b[0;32m---> 94\u001b[0;31m         \u001b[0mout\u001b[0m \u001b[0;34m=\u001b[0m \u001b[0mself\u001b[0m\u001b[0;34m.\u001b[0m\u001b[0mlayer7\u001b[0m\u001b[0;34m(\u001b[0m\u001b[0mout\u001b[0m\u001b[0;34m)\u001b[0m\u001b[0;34m\u001b[0m\u001b[0m\n\u001b[0m\u001b[1;32m     95\u001b[0m         \u001b[0mout\u001b[0m \u001b[0;34m=\u001b[0m \u001b[0mself\u001b[0m\u001b[0;34m.\u001b[0m\u001b[0mconv5\u001b[0m\u001b[0;34m(\u001b[0m\u001b[0mout\u001b[0m\u001b[0;34m)\u001b[0m\u001b[0;34m\u001b[0m\u001b[0m\n\u001b[1;32m     96\u001b[0m         \u001b[0mout\u001b[0m \u001b[0;34m=\u001b[0m \u001b[0mself\u001b[0m\u001b[0;34m.\u001b[0m\u001b[0mbn5\u001b[0m\u001b[0;34m(\u001b[0m\u001b[0mout\u001b[0m\u001b[0;34m)\u001b[0m\u001b[0;34m\u001b[0m\u001b[0m\n",
      "\u001b[0;32m/home/mount/neuro-t01-ssd/home/krivov/anaconda3/lib/python3.6/site-packages/torch/nn/modules/module.py\u001b[0m in \u001b[0;36m__call__\u001b[0;34m(self, *input, **kwargs)\u001b[0m\n\u001b[1;32m    204\u001b[0m \u001b[0;34m\u001b[0m\u001b[0m\n\u001b[1;32m    205\u001b[0m     \u001b[0;32mdef\u001b[0m \u001b[0m__call__\u001b[0m\u001b[0;34m(\u001b[0m\u001b[0mself\u001b[0m\u001b[0;34m,\u001b[0m \u001b[0;34m*\u001b[0m\u001b[0minput\u001b[0m\u001b[0;34m,\u001b[0m \u001b[0;34m**\u001b[0m\u001b[0mkwargs\u001b[0m\u001b[0;34m)\u001b[0m\u001b[0;34m:\u001b[0m\u001b[0;34m\u001b[0m\u001b[0m\n\u001b[0;32m--> 206\u001b[0;31m         \u001b[0mresult\u001b[0m \u001b[0;34m=\u001b[0m \u001b[0mself\u001b[0m\u001b[0;34m.\u001b[0m\u001b[0mforward\u001b[0m\u001b[0;34m(\u001b[0m\u001b[0;34m*\u001b[0m\u001b[0minput\u001b[0m\u001b[0;34m,\u001b[0m \u001b[0;34m**\u001b[0m\u001b[0mkwargs\u001b[0m\u001b[0;34m)\u001b[0m\u001b[0;34m\u001b[0m\u001b[0m\n\u001b[0m\u001b[1;32m    207\u001b[0m         \u001b[0;32mfor\u001b[0m \u001b[0mhook\u001b[0m \u001b[0;32min\u001b[0m \u001b[0mself\u001b[0m\u001b[0;34m.\u001b[0m\u001b[0m_forward_hooks\u001b[0m\u001b[0;34m.\u001b[0m\u001b[0mvalues\u001b[0m\u001b[0;34m(\u001b[0m\u001b[0;34m)\u001b[0m\u001b[0;34m:\u001b[0m\u001b[0;34m\u001b[0m\u001b[0m\n\u001b[1;32m    208\u001b[0m             \u001b[0mhook_result\u001b[0m \u001b[0;34m=\u001b[0m \u001b[0mhook\u001b[0m\u001b[0;34m(\u001b[0m\u001b[0mself\u001b[0m\u001b[0;34m,\u001b[0m \u001b[0minput\u001b[0m\u001b[0;34m,\u001b[0m \u001b[0mresult\u001b[0m\u001b[0;34m)\u001b[0m\u001b[0;34m\u001b[0m\u001b[0m\n",
      "\u001b[0;32m<ipython-input-8-66d95557a496>\u001b[0m in \u001b[0;36mforward\u001b[0;34m(self, x)\u001b[0m\n\u001b[1;32m     15\u001b[0m \u001b[0;34m\u001b[0m\u001b[0m\n\u001b[1;32m     16\u001b[0m     \u001b[0;32mdef\u001b[0m \u001b[0mforward\u001b[0m\u001b[0;34m(\u001b[0m\u001b[0mself\u001b[0m\u001b[0;34m,\u001b[0m \u001b[0mx\u001b[0m\u001b[0;34m)\u001b[0m\u001b[0;34m:\u001b[0m\u001b[0;34m\u001b[0m\u001b[0m\n\u001b[0;32m---> 17\u001b[0;31m         \u001b[0mresidual\u001b[0m \u001b[0;34m=\u001b[0m \u001b[0mtorch\u001b[0m\u001b[0;34m.\u001b[0m\u001b[0mcat\u001b[0m\u001b[0;34m(\u001b[0m\u001b[0;34m[\u001b[0m\u001b[0mx\u001b[0m\u001b[0;34m,\u001b[0m \u001b[0mVariable\u001b[0m\u001b[0;34m(\u001b[0m\u001b[0mtorch\u001b[0m\u001b[0;34m.\u001b[0m\u001b[0mzeros\u001b[0m\u001b[0;34m(\u001b[0m\u001b[0mx\u001b[0m\u001b[0;34m.\u001b[0m\u001b[0msize\u001b[0m\u001b[0;34m(\u001b[0m\u001b[0;34m)\u001b[0m\u001b[0;34m)\u001b[0m\u001b[0;34m)\u001b[0m\u001b[0;34m.\u001b[0m\u001b[0mcuda\u001b[0m\u001b[0;34m(\u001b[0m\u001b[0;34m)\u001b[0m\u001b[0;34m]\u001b[0m\u001b[0;34m,\u001b[0m \u001b[0mdim\u001b[0m\u001b[0;34m=\u001b[0m\u001b[0;36m1\u001b[0m\u001b[0;34m)\u001b[0m\u001b[0;34m\u001b[0m\u001b[0m\n\u001b[0m\u001b[1;32m     18\u001b[0m         \u001b[0msize\u001b[0m \u001b[0;34m=\u001b[0m \u001b[0mresidual\u001b[0m\u001b[0;34m.\u001b[0m\u001b[0msize\u001b[0m\u001b[0;34m(\u001b[0m\u001b[0;34m)\u001b[0m\u001b[0;34m\u001b[0m\u001b[0m\n\u001b[1;32m     19\u001b[0m         \u001b[0mresidual\u001b[0m \u001b[0;34m=\u001b[0m \u001b[0mresidual\u001b[0m\u001b[0;34m.\u001b[0m\u001b[0mclone\u001b[0m\u001b[0;34m(\u001b[0m\u001b[0;34m)\u001b[0m\u001b[0;34m\u001b[0m\u001b[0m\n",
      "\u001b[0;32m/home/mount/neuro-t01-ssd/home/krivov/anaconda3/lib/python3.6/site-packages/torch/autograd/variable.py\u001b[0m in \u001b[0;36mcuda\u001b[0;34m(self, device_id, async)\u001b[0m\n\u001b[1;32m    241\u001b[0m \u001b[0;34m\u001b[0m\u001b[0m\n\u001b[1;32m    242\u001b[0m     \u001b[0;32mdef\u001b[0m \u001b[0mcuda\u001b[0m\u001b[0;34m(\u001b[0m\u001b[0mself\u001b[0m\u001b[0;34m,\u001b[0m \u001b[0mdevice_id\u001b[0m\u001b[0;34m=\u001b[0m\u001b[0;32mNone\u001b[0m\u001b[0;34m,\u001b[0m \u001b[0masync\u001b[0m\u001b[0;34m=\u001b[0m\u001b[0;32mFalse\u001b[0m\u001b[0;34m)\u001b[0m\u001b[0;34m:\u001b[0m\u001b[0;34m\u001b[0m\u001b[0m\n\u001b[0;32m--> 243\u001b[0;31m         \u001b[0;32mreturn\u001b[0m \u001b[0mCudaTransfer\u001b[0m\u001b[0;34m(\u001b[0m\u001b[0mdevice_id\u001b[0m\u001b[0;34m,\u001b[0m \u001b[0masync\u001b[0m\u001b[0;34m)\u001b[0m\u001b[0;34m(\u001b[0m\u001b[0mself\u001b[0m\u001b[0;34m)\u001b[0m\u001b[0;34m\u001b[0m\u001b[0m\n\u001b[0m\u001b[1;32m    244\u001b[0m \u001b[0;34m\u001b[0m\u001b[0m\n\u001b[1;32m    245\u001b[0m     \u001b[0;32mdef\u001b[0m \u001b[0mcpu\u001b[0m\u001b[0;34m(\u001b[0m\u001b[0mself\u001b[0m\u001b[0;34m)\u001b[0m\u001b[0;34m:\u001b[0m\u001b[0;34m\u001b[0m\u001b[0m\n",
      "\u001b[0;32m/home/mount/neuro-t01-ssd/home/krivov/anaconda3/lib/python3.6/site-packages/torch/autograd/_functions/tensor.py\u001b[0m in \u001b[0;36mforward\u001b[0;34m(self, i)\u001b[0m\n\u001b[1;32m    158\u001b[0m             \u001b[0;32mreturn\u001b[0m \u001b[0mi\u001b[0m\u001b[0;34m.\u001b[0m\u001b[0mcuda\u001b[0m\u001b[0;34m(\u001b[0m\u001b[0mself\u001b[0m\u001b[0;34m.\u001b[0m\u001b[0mdevice_id\u001b[0m\u001b[0;34m,\u001b[0m \u001b[0masync\u001b[0m\u001b[0;34m=\u001b[0m\u001b[0mself\u001b[0m\u001b[0;34m.\u001b[0m\u001b[0masync\u001b[0m\u001b[0;34m)\u001b[0m\u001b[0;34m\u001b[0m\u001b[0m\n\u001b[1;32m    159\u001b[0m         \u001b[0;32melse\u001b[0m\u001b[0;34m:\u001b[0m\u001b[0;34m\u001b[0m\u001b[0m\n\u001b[0;32m--> 160\u001b[0;31m             \u001b[0;32mreturn\u001b[0m \u001b[0mi\u001b[0m\u001b[0;34m.\u001b[0m\u001b[0mcuda\u001b[0m\u001b[0;34m(\u001b[0m\u001b[0masync\u001b[0m\u001b[0;34m=\u001b[0m\u001b[0mself\u001b[0m\u001b[0;34m.\u001b[0m\u001b[0masync\u001b[0m\u001b[0;34m)\u001b[0m\u001b[0;34m\u001b[0m\u001b[0m\n\u001b[0m\u001b[1;32m    161\u001b[0m \u001b[0;34m\u001b[0m\u001b[0m\n\u001b[1;32m    162\u001b[0m     \u001b[0;32mdef\u001b[0m \u001b[0mbackward\u001b[0m\u001b[0;34m(\u001b[0m\u001b[0mself\u001b[0m\u001b[0;34m,\u001b[0m \u001b[0mgrad_output\u001b[0m\u001b[0;34m)\u001b[0m\u001b[0;34m:\u001b[0m\u001b[0;34m\u001b[0m\u001b[0m\n",
      "\u001b[0;32m/home/mount/neuro-t01-ssd/home/krivov/anaconda3/lib/python3.6/site-packages/torch/_utils.py\u001b[0m in \u001b[0;36m_cuda\u001b[0;34m(self, device, async)\u001b[0m\n\u001b[1;32m     63\u001b[0m         \u001b[0;32melse\u001b[0m\u001b[0;34m:\u001b[0m\u001b[0;34m\u001b[0m\u001b[0m\n\u001b[1;32m     64\u001b[0m             \u001b[0mnew_type\u001b[0m \u001b[0;34m=\u001b[0m \u001b[0mgetattr\u001b[0m\u001b[0;34m(\u001b[0m\u001b[0mtorch\u001b[0m\u001b[0;34m.\u001b[0m\u001b[0mcuda\u001b[0m\u001b[0;34m,\u001b[0m \u001b[0mself\u001b[0m\u001b[0;34m.\u001b[0m\u001b[0m__class__\u001b[0m\u001b[0;34m.\u001b[0m\u001b[0m__name__\u001b[0m\u001b[0;34m)\u001b[0m\u001b[0;34m\u001b[0m\u001b[0m\n\u001b[0;32m---> 65\u001b[0;31m             \u001b[0;32mreturn\u001b[0m \u001b[0mnew_type\u001b[0m\u001b[0;34m(\u001b[0m\u001b[0mself\u001b[0m\u001b[0;34m.\u001b[0m\u001b[0msize\u001b[0m\u001b[0;34m(\u001b[0m\u001b[0;34m)\u001b[0m\u001b[0;34m)\u001b[0m\u001b[0;34m.\u001b[0m\u001b[0mcopy_\u001b[0m\u001b[0;34m(\u001b[0m\u001b[0mself\u001b[0m\u001b[0;34m,\u001b[0m \u001b[0masync\u001b[0m\u001b[0;34m)\u001b[0m\u001b[0;34m\u001b[0m\u001b[0m\n\u001b[0m\u001b[1;32m     66\u001b[0m \u001b[0;34m\u001b[0m\u001b[0m\n\u001b[1;32m     67\u001b[0m \u001b[0;34m\u001b[0m\u001b[0m\n",
      "\u001b[0;31mKeyboardInterrupt\u001b[0m: "
     ]
    }
   ],
   "source": [
    "n_epoch = 100\n",
    "batch_per_epoch = 40\n",
    "batch_size = 100\n",
    "\n",
    "loss_train = []\n",
    "loss_val = []\n",
    "dsc_val = []\n",
    "\n",
    "for epoch in range(n_epoch):\n",
    "    train_iter = uniform_ext(\n",
    "        mscans_train, msegms_train, batch_size=batch_size, patch_size_x_ext=patch_size_x_ext,\n",
    "        patch_size_x=patch_size_x, patch_size_y=patch_size_y, \n",
    "    )\n",
    "    \n",
    "    start_train = time.time()\n",
    "    \n",
    "    model.train()\n",
    "    losses = []\n",
    "    weights = []\n",
    "    for _ in tqdm(range(batch_per_epoch)):\n",
    "        x_batch_ext, x_batch, y_batch = next(train_iter)\n",
    "\n",
    "        y_pred = model(to_var(x_batch), to_var(x_batch_ext))\n",
    "\n",
    "        optimizer.zero_grad()\n",
    "        loss = loss_binary_entropy(y_pred, to_var(y_batch))\n",
    "        \n",
    "        loss.backward()\n",
    "        optimizer.step()\n",
    "\n",
    "        losses.append(to_numpy(loss))\n",
    "        weights.append(len(x_batch))\n",
    "            \n",
    "    train_loss = np.average(np.array(losses).flatten(), weights=weights)\n",
    "    #train_acc = np.average(np.array(accs).flatten(), weights=weights)\n",
    "    \n",
    "    end_train = time.time()\n",
    "    \n",
    "    start_val = time.time()\n",
    "    \n",
    "    model.eval()\n",
    "    losses = []\n",
    "    dices = []\n",
    "    for mscan, segm in tqdm(zip(mscans_val, msegms_val)):\n",
    "        \n",
    "        size = np.array(mscan.shape[1:])\n",
    "        x_ext_size = size + 2*padding_ext\n",
    "        x_ext_size = (x_ext_size // 6 ) * 6\n",
    "        size = x_ext_size - 2*padding_ext\n",
    "        \n",
    "        mscan = mscan[:, :size[0], :size[1], :size[2]]\n",
    "        segm = segm[:, :size[0], :size[1], :size[2]]\n",
    "        \n",
    "        x_batch_ext = min_padding(mscan, padding_ext)[None, :]\n",
    "        x_batch = min_padding(mscan, padding)[None, :]\n",
    "        y_batch = np.array(segm[None, :], dtype=np.float32)\n",
    "        \n",
    "        s = y_batch.shape[-1] // 2\n",
    "        half_x_1 = x_batch[..., :s+2*padding[-1]]\n",
    "        half_x_2 = x_batch[..., s:]\n",
    "        \n",
    "        half_x_ext_1 = x_batch_ext[..., :s+2*padding_ext[-1]]\n",
    "        half_x_ext_2 = x_batch_ext[..., s:]\n",
    "        \n",
    "        half_y_1 = y_batch[..., :s]\n",
    "        half_y_2 = y_batch[..., s:]\n",
    "        \n",
    "        y_pred = model(to_var(half_x_1, volatile=True), to_var(half_x_ext_1, volatile=True))\n",
    "        loss = F.binary_cross_entropy(y_pred, to_var(half_y_1))\n",
    "        losses.append(to_numpy(loss))\n",
    "        y_pred1 = to_numpy(y_pred)\n",
    "        \n",
    "        y_pred = model(to_var(half_x_2, volatile=True), to_var(half_x_ext_2, volatile=True))\n",
    "        loss = F.binary_cross_entropy(y_pred, to_var(half_y_2))\n",
    "        losses.append(to_numpy(loss))\n",
    "        y_pred2 = to_numpy(y_pred)\n",
    "    \n",
    "        y_pred = np.concatenate((y_pred1, y_pred2), axis=4)\n",
    "        \n",
    "        dices.append([dice_score(y_pred[0, k] > 0.5, y_batch[0, k]) for k in range(n_classes)])\n",
    "        losses.append(to_numpy(loss))\n",
    "    \n",
    "    end_val = time.time()\n",
    "    \n",
    "    val_loss = np.mean(np.array(losses).flatten())\n",
    "    val_dices = np.mean(np.array(dices), axis=0)\n",
    "    \n",
    "    loss_train.append(train_loss)\n",
    "    loss_val.append(val_loss)\n",
    "    dsc_val.append(val_dices)\n",
    "    \n",
    "    print('Epoch {}'.format(epoch))\n",
    "    print('Train:', train_loss)\n",
    "    print('Val  :', val_loss, val_dices)\n",
    "    print('Time :', end_train - start_train, end_val - start_val)\n",
    "    print('\\n')"
   ]
  },
  {
   "cell_type": "code",
   "execution_count": 19,
   "metadata": {
    "collapsed": false
   },
   "outputs": [
    {
     "data": {
      "image/png": "[encoded data removed]",
      "text/plain": [
       "<matplotlib.figure.Figure at 0x7fb28536add8>"
      ]
     },
     "metadata": {},
     "output_type": "display_data"
    }
   ],
   "source": [
    "plt.figure(figsize=(8,8))\n",
    "plt.plot(loss_val, 'g', label='val')\n",
    "plt.plot(loss_train, 'r', label='train')\n",
    "plt.yscale('log')\n",
    "plt.legend()\n",
    "plt.ylabel('Loss')\n",
    "plt.xlabel('epochs')\n",
    "plt.grid()"
   ]
  },
  {
   "cell_type": "code",
   "execution_count": 20,
   "metadata": {
    "collapsed": false
   },
   "outputs": [
    {
     "data": {
      "image/png": "[encoded data removed]",
      "text/plain": [
       "<matplotlib.figure.Figure at 0x7fb2853c1978>"
      ]
     },
     "metadata": {},
     "output_type": "display_data"
    }
   ],
   "source": [
    "plt.figure(figsize=(8,8))\n",
    "plt.plot(np.array(dsc_val)[:, 0], 'g', label='whole')\n",
    "plt.plot(np.array(dsc_val)[:, 1], 'r', label='core')\n",
    "plt.plot(np.array(dsc_val)[:, 2], 'b', label='enh')\n",
    "#plt.yscale('log')\n",
    "plt.legend()\n",
    "plt.ylabel('Loss')\n",
    "plt.xlabel('epochs')\n",
    "plt.grid()"
   ]
  },
  {
   "cell_type": "code",
   "execution_count": 21,
   "metadata": {
    "collapsed": false,
    "scrolled": true
   },
   "outputs": [
    {
     "data": {
      "text/plain": [
       "Model (\n",
       "  (bn1): BatchNorm3d(4, eps=1e-05, momentum=0.1, affine=True)\n",
       "  (relu): ReLU (inplace)\n",
       "  (conv1): Conv3d(4, 30, kernel_size=(3, 3, 3), stride=(1, 1, 1), bias=False)\n",
       "  (bn2): BatchNorm3d(30, eps=1e-05, momentum=0.1, affine=True)\n",
       "  (conv2): Conv3d(30, 30, kernel_size=(3, 3, 3), stride=(1, 1, 1), bias=False)\n",
       "  (layer1): ResidualBlock (\n",
       "    (bn1): BatchNorm3d(30, eps=1e-05, momentum=0.1, affine=True)\n",
       "    (relu): ReLU (inplace)\n",
       "    (conv1): Conv3d(30, 40, kernel_size=(3, 3, 3), stride=(1, 1, 1), bias=False)\n",
       "    (bn2): BatchNorm3d(40, eps=1e-05, momentum=0.1, affine=True)\n",
       "    (conv2): Conv3d(40, 40, kernel_size=(3, 3, 3), stride=(1, 1, 1), bias=False)\n",
       "  )\n",
       "  (layer2): ResidualBlock (\n",
       "    (bn1): BatchNorm3d(40, eps=1e-05, momentum=0.1, affine=True)\n",
       "    (relu): ReLU (inplace)\n",
       "    (conv1): Conv3d(40, 40, kernel_size=(3, 3, 3), stride=(1, 1, 1), bias=False)\n",
       "    (bn2): BatchNorm3d(40, eps=1e-05, momentum=0.1, affine=True)\n",
       "    (conv2): Conv3d(40, 40, kernel_size=(3, 3, 3), stride=(1, 1, 1), bias=False)\n",
       "  )\n",
       "  (layer3): ResidualBlock (\n",
       "    (bn1): BatchNorm3d(40, eps=1e-05, momentum=0.1, affine=True)\n",
       "    (relu): ReLU (inplace)\n",
       "    (conv1): Conv3d(40, 50, kernel_size=(3, 3, 3), stride=(1, 1, 1), bias=False)\n",
       "    (bn2): BatchNorm3d(50, eps=1e-05, momentum=0.1, affine=True)\n",
       "    (conv2): Conv3d(50, 50, kernel_size=(3, 3, 3), stride=(1, 1, 1), bias=False)\n",
       "  )\n",
       "  (avg_pool): AvgPool3d (\n",
       "  )\n",
       "  (bn3): BatchNorm3d(4, eps=1e-05, momentum=0.1, affine=True)\n",
       "  (conv3): Conv3d(4, 30, kernel_size=(3, 3, 3), stride=(1, 1, 1), bias=False)\n",
       "  (bn4): BatchNorm3d(30, eps=1e-05, momentum=0.1, affine=True)\n",
       "  (conv4): Conv3d(30, 30, kernel_size=(3, 3, 3), stride=(1, 1, 1), bias=False)\n",
       "  (layer4): ResidualBlock (\n",
       "    (bn1): BatchNorm3d(30, eps=1e-05, momentum=0.1, affine=True)\n",
       "    (relu): ReLU (inplace)\n",
       "    (conv1): Conv3d(30, 40, kernel_size=(3, 3, 3), stride=(1, 1, 1), bias=False)\n",
       "    (bn2): BatchNorm3d(40, eps=1e-05, momentum=0.1, affine=True)\n",
       "    (conv2): Conv3d(40, 40, kernel_size=(3, 3, 3), stride=(1, 1, 1), bias=False)\n",
       "  )\n",
       "  (layer5): ResidualBlock (\n",
       "    (bn1): BatchNorm3d(40, eps=1e-05, momentum=0.1, affine=True)\n",
       "    (relu): ReLU (inplace)\n",
       "    (conv1): Conv3d(40, 40, kernel_size=(3, 3, 3), stride=(1, 1, 1), bias=False)\n",
       "    (bn2): BatchNorm3d(40, eps=1e-05, momentum=0.1, affine=True)\n",
       "    (conv2): Conv3d(40, 40, kernel_size=(3, 3, 3), stride=(1, 1, 1), bias=False)\n",
       "  )\n",
       "  (layer6): ResidualBlock (\n",
       "    (bn1): BatchNorm3d(40, eps=1e-05, momentum=0.1, affine=True)\n",
       "    (relu): ReLU (inplace)\n",
       "    (conv1): Conv3d(40, 50, kernel_size=(3, 3, 3), stride=(1, 1, 1), bias=False)\n",
       "    (bn2): BatchNorm3d(50, eps=1e-05, momentum=0.1, affine=True)\n",
       "    (conv2): Conv3d(50, 50, kernel_size=(3, 3, 3), stride=(1, 1, 1), bias=False)\n",
       "  )\n",
       "  (convTr): ConvTranspose3d(50, 50, kernel_size=(5, 5, 5), stride=(3, 3, 3), padding=(1, 1, 1))\n",
       "  (layer7): ResidualBlock (\n",
       "    (bn1): BatchNorm3d(100, eps=1e-05, momentum=0.1, affine=True)\n",
       "    (relu): ReLU (inplace)\n",
       "    (conv1): Conv3d(100, 150, kernel_size=(1, 1, 1), stride=(1, 1, 1), bias=False)\n",
       "    (bn2): BatchNorm3d(150, eps=1e-05, momentum=0.1, affine=True)\n",
       "    (conv2): Conv3d(150, 150, kernel_size=(1, 1, 1), stride=(1, 1, 1), bias=False)\n",
       "  )\n",
       "  (conv5): Conv3d(150, 3, kernel_size=(1, 1, 1), stride=(1, 1, 1), bias=False)\n",
       "  (bn5): BatchNorm3d(3, eps=1e-05, momentum=0.1, affine=True)\n",
       "  (s): Sigmoid ()\n",
       ")"
      ]
     },
     "execution_count": 21,
     "metadata": {},
     "output_type": "execute_result"
    }
   ],
   "source": [
    "model.eval()"
   ]
  },
  {
   "cell_type": "code",
   "execution_count": 22,
   "metadata": {
    "collapsed": false
   },
   "outputs": [
    {
     "name": "stderr",
     "output_type": "stream",
     "text": [
      "4it [00:28,  7.32s/it]/home/mount/neuro-t01-ssd/home/krivov/anaconda3/lib/python3.6/site-packages/ipykernel/__main__.py:35: RuntimeWarning: invalid value encountered in double_scalars\n",
      "6it [00:44,  7.47s/it]\n"
     ]
    }
   ],
   "source": [
    "y_predicted = []\n",
    "dcs_whole = []\n",
    "dcs_core = []\n",
    "dcs_enh = []\n",
    "\n",
    "for mscan, segm in tqdm(zip(mscans_val, msegms_val)):\n",
    "    \n",
    "    size = np.array(mscan.shape[1:])\n",
    "    x_ext_size = size + 2*padding_ext\n",
    "    x_ext_size = (x_ext_size // 6 ) * 6\n",
    "    size = x_ext_size - 2*padding_ext\n",
    "\n",
    "    mscan = mscan[:, :size[0], :size[1], :size[2]]\n",
    "    segm = segm[:, :size[0], :size[1], :size[2]]\n",
    "\n",
    "    x_batch_ext = min_padding(mscan, padding_ext)[None, :]\n",
    "    x_batch = min_padding(mscan, padding)[None, :]\n",
    "    y_batch = np.array(segm[None, :], dtype=np.float32)\n",
    "\n",
    "    s = y_batch.shape[-1] // 2\n",
    "    half_x_1 = x_batch[..., :s+2*padding[-1]]\n",
    "    half_x_2 = x_batch[..., s:]\n",
    "\n",
    "    half_x_ext_1 = x_batch_ext[..., :s+2*padding_ext[-1]]\n",
    "    half_x_ext_2 = x_batch_ext[..., s:]\n",
    "\n",
    "    half_y_1 = y_batch[..., :s]\n",
    "    half_y_2 = y_batch[..., s:]\n",
    "\n",
    "    y_pred = model(to_var(half_x_1, volatile=True), to_var(half_x_ext_1, volatile=True))\n",
    "    loss = F.binary_cross_entropy(y_pred, to_var(half_y_1))\n",
    "    losses.append(to_numpy(loss))\n",
    "    y_pred1 = to_numpy(y_pred)\n",
    "\n",
    "    y_pred = model(to_var(half_x_2, volatile=True), to_var(half_x_ext_2, volatile=True))\n",
    "    loss = F.binary_cross_entropy(y_pred, to_var(half_y_2))\n",
    "    losses.append(to_numpy(loss))\n",
    "    y_pred2 = to_numpy(y_pred)\n",
    "\n",
    "    y_pred = np.concatenate((y_pred1, y_pred2), axis=4)\n",
    "\n",
    "    #y_predicted.append(y_pred[0])\n",
    "    dcs_whole.append([dice_score(y_pred[0, 0] > p, y_batch[0, 0]) for p in np.linspace(0.01, 1, 100)])\n",
    "    dcs_core.append([dice_score(y_pred[0, 1] > p, y_batch[0, 1]) for p in np.linspace(0.01, 1, 100)])\n",
    "    dcs_enh.append([dice_score(y_pred[0, 2] > p, y_batch[0, 2]) for p in np.linspace(0.01, 1, 100)])"
   ]
  },
  {
   "cell_type": "code",
   "execution_count": 23,
   "metadata": {
    "collapsed": false
   },
   "outputs": [
    {
     "data": {
      "image/png": "[encoded data removed]",
      "text/plain": [
       "<matplotlib.figure.Figure at 0x7fb27eb17898>"
      ]
     },
     "metadata": {},
     "output_type": "display_data"
    }
   ],
   "source": [
    "plt.figure(figsize=(8,8))\n",
    "plt.plot(np.linspace(0.01, 1, 100), np.mean(np.array(dcs_whole), axis=0), 'g', label='dcs_whole')\n",
    "plt.plot(np.linspace(0.01, 1, 100), np.mean(np.array(dcs_core), axis=0), 'r', label='dcs_core')\n",
    "plt.plot(np.linspace(0.01, 1, 100), np.mean(np.array(dcs_enh), axis=0), 'b', label='dcs_enh')\n",
    "plt.legend()\n",
    "plt.ylabel('dcs')\n",
    "plt.xlabel('p')\n",
    "plt.grid()"
   ]
  },
  {
   "cell_type": "code",
   "execution_count": 24,
   "metadata": {
    "collapsed": false
   },
   "outputs": [
    {
     "data": {
      "text/plain": [
       "[0.47000000000000003, 0.23000000000000001, 0.13]"
      ]
     },
     "execution_count": 24,
     "metadata": {},
     "output_type": "execute_result"
    }
   ],
   "source": [
    "p = []\n",
    "p.append(np.linspace(0.01, 1, 100)[np.argmax(np.mean(np.array(dcs_whole), axis=0))])\n",
    "p.append(np.linspace(0.01, 1, 100)[np.argmax(np.mean(np.array(dcs_core), axis=0))])\n",
    "p.append(np.linspace(0.01, 1, 100)[np.argmax(np.mean(np.array(dcs_enh), axis=0))])\n",
    "p"
   ]
  },
  {
   "cell_type": "code",
   "execution_count": 25,
   "metadata": {
    "collapsed": false
   },
   "outputs": [
    {
     "name": "stderr",
     "output_type": "stream",
     "text": [
      "47it [03:51,  4.81s/it]/home/mount/neuro-t01-ssd/home/krivov/anaconda3/lib/python3.6/site-packages/ipykernel/__main__.py:35: RuntimeWarning: invalid value encountered in double_scalars\n",
      "57it [04:40,  4.95s/it]\n"
     ]
    }
   ],
   "source": [
    "y_predicted = []\n",
    "dcs_whole = []\n",
    "dcs_core = []\n",
    "dcs_enh = []\n",
    "\n",
    "for mscan, segm in tqdm(zip(mscans_test, msegms_test)):\n",
    "    \n",
    "    size = np.array(mscan.shape[1:])\n",
    "    x_ext_size = size + 2*padding_ext\n",
    "    x_ext_size = (x_ext_size // 6 ) * 6\n",
    "    size = x_ext_size - 2*padding_ext\n",
    "\n",
    "    mscan = mscan[:, :size[0], :size[1], :size[2]]\n",
    "    segm = segm[:, :size[0], :size[1], :size[2]]\n",
    "\n",
    "    x_batch_ext = min_padding(mscan, padding_ext)[None, :]\n",
    "    x_batch = min_padding(mscan, padding)[None, :]\n",
    "    y_batch = np.array(segm[None, :], dtype=np.float32)\n",
    "\n",
    "    s = y_batch.shape[-1] // 2\n",
    "    half_x_1 = x_batch[..., :s+2*padding[-1]]\n",
    "    half_x_2 = x_batch[..., s:]\n",
    "\n",
    "    half_x_ext_1 = x_batch_ext[..., :s+2*padding_ext[-1]]\n",
    "    half_x_ext_2 = x_batch_ext[..., s:]\n",
    "\n",
    "    half_y_1 = y_batch[..., :s]\n",
    "    half_y_2 = y_batch[..., s:]\n",
    "\n",
    "    y_pred = model(to_var(half_x_1, volatile=True), to_var(half_x_ext_1, volatile=True))\n",
    "    loss = F.binary_cross_entropy(y_pred, to_var(half_y_1))\n",
    "    losses.append(to_numpy(loss))\n",
    "    y_pred1 = to_numpy(y_pred)\n",
    "\n",
    "    y_pred = model(to_var(half_x_2, volatile=True), to_var(half_x_ext_2, volatile=True))\n",
    "    loss = F.binary_cross_entropy(y_pred, to_var(half_y_2))\n",
    "    losses.append(to_numpy(loss))\n",
    "    y_pred2 = to_numpy(y_pred)\n",
    "\n",
    "    y_pred = np.concatenate((y_pred1, y_pred2), axis=4)\n",
    "\n",
    "    #y_predicted.append(y_pred[0])\n",
    "    dcs_whole.append(dice_score(y_pred[0, 0] > p[0], y_batch[0, 0]))\n",
    "    dcs_core.append(dice_score(y_pred[0, 1] > p[1], y_batch[0, 1]))\n",
    "    dcs_enh.append(dice_score(y_pred[0, 2] > p[2], y_batch[0, 2]))"
   ]
  },
  {
   "cell_type": "code",
   "execution_count": 26,
   "metadata": {
    "collapsed": false
   },
   "outputs": [
    {
     "name": "stdout",
     "output_type": "stream",
     "text": [
      "0.771397135646 0.557869313902 0.466980482547\n"
     ]
    }
   ],
   "source": [
    "print(np.mean(np.array(dcs_whole)), np.mean(np.array(dcs_core)), np.mean(np.array(dcs_enh)))"
   ]
  },
  {
   "cell_type": "code",
   "execution_count": 1,
   "metadata": {
    "collapsed": false
   },
   "outputs": [
    {
     "ename": "NameError",
     "evalue": "name 'plt' is not defined",
     "output_type": "error",
     "traceback": [
      "\u001b[0;31m---------------------------------------------------------------------------\u001b[0m",
      "\u001b[0;31mNameError\u001b[0m                                 Traceback (most recent call last)",
      "\u001b[0;32m<ipython-input-1-f0e722f39407>\u001b[0m in \u001b[0;36m<module>\u001b[0;34m()\u001b[0m\n\u001b[0;32m----> 1\u001b[0;31m \u001b[0mfig\u001b[0m\u001b[0;34m,\u001b[0m \u001b[0max\u001b[0m \u001b[0;34m=\u001b[0m \u001b[0mplt\u001b[0m\u001b[0;34m.\u001b[0m\u001b[0msubplots\u001b[0m\u001b[0;34m(\u001b[0m\u001b[0;36m2\u001b[0m\u001b[0;34m,\u001b[0m \u001b[0;36m2\u001b[0m\u001b[0;34m,\u001b[0m \u001b[0msharex\u001b[0m\u001b[0;34m=\u001b[0m\u001b[0;32mTrue\u001b[0m\u001b[0;34m,\u001b[0m \u001b[0msharey\u001b[0m\u001b[0;34m=\u001b[0m\u001b[0;32mTrue\u001b[0m\u001b[0;34m)\u001b[0m\u001b[0;34m\u001b[0m\u001b[0m\n\u001b[0m\u001b[1;32m      2\u001b[0m \u001b[0;34m\u001b[0m\u001b[0m\n\u001b[1;32m      3\u001b[0m \u001b[0mi\u001b[0m \u001b[0;34m=\u001b[0m \u001b[0;36m1\u001b[0m\u001b[0;34m\u001b[0m\u001b[0m\n\u001b[1;32m      4\u001b[0m \u001b[0mk\u001b[0m \u001b[0;34m=\u001b[0m \u001b[0;36m40\u001b[0m\u001b[0;34m\u001b[0m\u001b[0m\n\u001b[1;32m      5\u001b[0m \u001b[0;34m\u001b[0m\u001b[0m\n",
      "\u001b[0;31mNameError\u001b[0m: name 'plt' is not defined"
     ]
    }
   ],
   "source": [
    "fig, ax = plt.subplots(2, 2, sharex=True, sharey=True)\n",
    "\n",
    "i = 1\n",
    "k = 40\n",
    "\n",
    "cmap = cm.Blues\n",
    "\n",
    "ax[0, 0].imshow(y_predicted[i][0, ..., k], cmap=cmap)\n",
    "#plt.colorbar()\n",
    "#plt.show()\n",
    "ax[0, 1].imshow(msegms_val[i][0, ..., k], cmap=cmap)\n",
    "ax[1, 0].imshow(mscans_val[i][3, ..., k], cmap=cmap)\n",
    "plt.tight_layout()\n",
    "plt.show()\n",
    "#plt.colorbar()\n",
    "#plt.show()"
   ]
  },
  {
   "cell_type": "code",
   "execution_count": null,
   "metadata": {
    "collapsed": true
   },
   "outputs": [],
   "source": []
  }
 ],
 "metadata": {
  "kernelspec": {
   "display_name": "Python 3",
   "language": "python",
   "name": "python3"
  },
  "language_info": {
   "codemirror_mode": {
    "name": "ipython",
    "version": 3
   },
   "file_extension": ".py",
   "mimetype": "text/x-python",
   "name": "python",
   "nbconvert_exporter": "python",
   "pygments_lexer": "ipython3",
   "version": "3.6.0"
  }
 },
 "nbformat": 4,
 "nbformat_minor": 2
}
